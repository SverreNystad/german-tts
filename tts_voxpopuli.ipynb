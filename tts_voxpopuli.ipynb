{
  "cells": [
    {
      "cell_type": "markdown",
      "metadata": {},
      "source": [
        "# German TTS with VoxPopuli and Audio Transformers"
      ]
    },
    {
      "cell_type": "code",
      "execution_count": null,
      "metadata": {
        "colab": {
          "base_uri": "https://localhost:8080/"
        },
        "id": "cPGWOO2iChe7",
        "outputId": "159dc3f2-85b5-4297-80c5-693e88bd219c"
      },
      "outputs": [
        {
          "name": "stdout",
          "output_type": "stream",
          "text": [
            "Requirement already satisfied: transformers in /usr/local/lib/python3.12/dist-packages (4.57.0)\n",
            "Requirement already satisfied: datasets==3.6.0 in /usr/local/lib/python3.12/dist-packages (3.6.0)\n",
            "Requirement already satisfied: soundfile in /usr/local/lib/python3.12/dist-packages (0.13.1)\n",
            "Requirement already satisfied: speechbrain in /usr/local/lib/python3.12/dist-packages (1.0.3)\n",
            "Requirement already satisfied: accelerate in /usr/local/lib/python3.12/dist-packages (1.10.1)\n",
            "Requirement already satisfied: wandb in /usr/local/lib/python3.12/dist-packages (0.22.2)\n",
            "Requirement already satisfied: filelock in /usr/local/lib/python3.12/dist-packages (from datasets==3.6.0) (3.20.0)\n",
            "Requirement already satisfied: numpy>=1.17 in /usr/local/lib/python3.12/dist-packages (from datasets==3.6.0) (2.0.2)\n",
            "Requirement already satisfied: pyarrow>=15.0.0 in /usr/local/lib/python3.12/dist-packages (from datasets==3.6.0) (18.1.0)\n",
            "Requirement already satisfied: dill<0.3.9,>=0.3.0 in /usr/local/lib/python3.12/dist-packages (from datasets==3.6.0) (0.3.8)\n",
            "Requirement already satisfied: pandas in /usr/local/lib/python3.12/dist-packages (from datasets==3.6.0) (2.2.2)\n",
            "Requirement already satisfied: requests>=2.32.2 in /usr/local/lib/python3.12/dist-packages (from datasets==3.6.0) (2.32.4)\n",
            "Requirement already satisfied: tqdm>=4.66.3 in /usr/local/lib/python3.12/dist-packages (from datasets==3.6.0) (4.67.1)\n",
            "Requirement already satisfied: xxhash in /usr/local/lib/python3.12/dist-packages (from datasets==3.6.0) (3.6.0)\n",
            "Requirement already satisfied: multiprocess<0.70.17 in /usr/local/lib/python3.12/dist-packages (from datasets==3.6.0) (0.70.16)\n",
            "Requirement already satisfied: fsspec<=2025.3.0,>=2023.1.0 in /usr/local/lib/python3.12/dist-packages (from fsspec[http]<=2025.3.0,>=2023.1.0->datasets==3.6.0) (2025.3.0)\n",
            "Requirement already satisfied: huggingface-hub>=0.24.0 in /usr/local/lib/python3.12/dist-packages (from datasets==3.6.0) (0.35.3)\n",
            "Requirement already satisfied: packaging in /usr/local/lib/python3.12/dist-packages (from datasets==3.6.0) (25.0)\n",
            "Requirement already satisfied: pyyaml>=5.1 in /usr/local/lib/python3.12/dist-packages (from datasets==3.6.0) (6.0.3)\n",
            "Requirement already satisfied: regex!=2019.12.17 in /usr/local/lib/python3.12/dist-packages (from transformers) (2024.11.6)\n",
            "Requirement already satisfied: tokenizers<=0.23.0,>=0.22.0 in /usr/local/lib/python3.12/dist-packages (from transformers) (0.22.1)\n",
            "Requirement already satisfied: safetensors>=0.4.3 in /usr/local/lib/python3.12/dist-packages (from transformers) (0.6.2)\n",
            "Requirement already satisfied: cffi>=1.0 in /usr/local/lib/python3.12/dist-packages (from soundfile) (2.0.0)\n",
            "Requirement already satisfied: hyperpyyaml in /usr/local/lib/python3.12/dist-packages (from speechbrain) (1.2.2)\n",
            "Requirement already satisfied: joblib in /usr/local/lib/python3.12/dist-packages (from speechbrain) (1.5.2)\n",
            "Requirement already satisfied: scipy in /usr/local/lib/python3.12/dist-packages (from speechbrain) (1.16.2)\n",
            "Requirement already satisfied: sentencepiece in /usr/local/lib/python3.12/dist-packages (from speechbrain) (0.2.1)\n",
            "Requirement already satisfied: torch>=1.9 in /usr/local/lib/python3.12/dist-packages (from speechbrain) (2.8.0+cu126)\n",
            "Requirement already satisfied: torchaudio in /usr/local/lib/python3.12/dist-packages (from speechbrain) (2.8.0+cu126)\n",
            "Requirement already satisfied: psutil in /usr/local/lib/python3.12/dist-packages (from accelerate) (5.9.5)\n",
            "Requirement already satisfied: click>=8.0.1 in /usr/local/lib/python3.12/dist-packages (from wandb) (8.3.0)\n",
            "Requirement already satisfied: gitpython!=3.1.29,>=1.0.0 in /usr/local/lib/python3.12/dist-packages (from wandb) (3.1.45)\n",
            "Requirement already satisfied: platformdirs in /usr/local/lib/python3.12/dist-packages (from wandb) (4.5.0)\n",
            "Requirement already satisfied: protobuf!=4.21.0,!=5.28.0,<7,>=3.19.0 in /usr/local/lib/python3.12/dist-packages (from wandb) (5.29.5)\n",
            "Requirement already satisfied: pydantic<3 in /usr/local/lib/python3.12/dist-packages (from wandb) (2.11.10)\n",
            "Requirement already satisfied: sentry-sdk>=2.0.0 in /usr/local/lib/python3.12/dist-packages (from wandb) (2.40.0)\n",
            "Requirement already satisfied: typing-extensions<5,>=4.8 in /usr/local/lib/python3.12/dist-packages (from wandb) (4.15.0)\n",
            "Requirement already satisfied: pycparser in /usr/local/lib/python3.12/dist-packages (from cffi>=1.0->soundfile) (2.23)\n",
            "Requirement already satisfied: aiohttp!=4.0.0a0,!=4.0.0a1 in /usr/local/lib/python3.12/dist-packages (from fsspec[http]<=2025.3.0,>=2023.1.0->datasets==3.6.0) (3.13.0)\n",
            "Requirement already satisfied: gitdb<5,>=4.0.1 in /usr/local/lib/python3.12/dist-packages (from gitpython!=3.1.29,>=1.0.0->wandb) (4.0.12)\n",
            "Requirement already satisfied: hf-xet<2.0.0,>=1.1.3 in /usr/local/lib/python3.12/dist-packages (from huggingface-hub>=0.24.0->datasets==3.6.0) (1.1.10)\n",
            "Requirement already satisfied: annotated-types>=0.6.0 in /usr/local/lib/python3.12/dist-packages (from pydantic<3->wandb) (0.7.0)\n",
            "Requirement already satisfied: pydantic-core==2.33.2 in /usr/local/lib/python3.12/dist-packages (from pydantic<3->wandb) (2.33.2)\n",
            "Requirement already satisfied: typing-inspection>=0.4.0 in /usr/local/lib/python3.12/dist-packages (from pydantic<3->wandb) (0.4.2)\n",
            "Requirement already satisfied: charset_normalizer<4,>=2 in /usr/local/lib/python3.12/dist-packages (from requests>=2.32.2->datasets==3.6.0) (3.4.3)\n",
            "Requirement already satisfied: idna<4,>=2.5 in /usr/local/lib/python3.12/dist-packages (from requests>=2.32.2->datasets==3.6.0) (3.10)\n",
            "Requirement already satisfied: urllib3<3,>=1.21.1 in /usr/local/lib/python3.12/dist-packages (from requests>=2.32.2->datasets==3.6.0) (2.5.0)\n",
            "Requirement already satisfied: certifi>=2017.4.17 in /usr/local/lib/python3.12/dist-packages (from requests>=2.32.2->datasets==3.6.0) (2025.10.5)\n",
            "Requirement already satisfied: setuptools in /usr/local/lib/python3.12/dist-packages (from torch>=1.9->speechbrain) (75.2.0)\n",
            "Requirement already satisfied: sympy>=1.13.3 in /usr/local/lib/python3.12/dist-packages (from torch>=1.9->speechbrain) (1.13.3)\n",
            "Requirement already satisfied: networkx in /usr/local/lib/python3.12/dist-packages (from torch>=1.9->speechbrain) (3.5)\n",
            "Requirement already satisfied: jinja2 in /usr/local/lib/python3.12/dist-packages (from torch>=1.9->speechbrain) (3.1.6)\n",
            "Requirement already satisfied: nvidia-cuda-nvrtc-cu12==12.6.77 in /usr/local/lib/python3.12/dist-packages (from torch>=1.9->speechbrain) (12.6.77)\n",
            "Requirement already satisfied: nvidia-cuda-runtime-cu12==12.6.77 in /usr/local/lib/python3.12/dist-packages (from torch>=1.9->speechbrain) (12.6.77)\n",
            "Requirement already satisfied: nvidia-cuda-cupti-cu12==12.6.80 in /usr/local/lib/python3.12/dist-packages (from torch>=1.9->speechbrain) (12.6.80)\n",
            "Requirement already satisfied: nvidia-cudnn-cu12==9.10.2.21 in /usr/local/lib/python3.12/dist-packages (from torch>=1.9->speechbrain) (9.10.2.21)\n",
            "Requirement already satisfied: nvidia-cublas-cu12==12.6.4.1 in /usr/local/lib/python3.12/dist-packages (from torch>=1.9->speechbrain) (12.6.4.1)\n",
            "Requirement already satisfied: nvidia-cufft-cu12==11.3.0.4 in /usr/local/lib/python3.12/dist-packages (from torch>=1.9->speechbrain) (11.3.0.4)\n",
            "Requirement already satisfied: nvidia-curand-cu12==10.3.7.77 in /usr/local/lib/python3.12/dist-packages (from torch>=1.9->speechbrain) (10.3.7.77)\n",
            "Requirement already satisfied: nvidia-cusolver-cu12==11.7.1.2 in /usr/local/lib/python3.12/dist-packages (from torch>=1.9->speechbrain) (11.7.1.2)\n",
            "Requirement already satisfied: nvidia-cusparse-cu12==12.5.4.2 in /usr/local/lib/python3.12/dist-packages (from torch>=1.9->speechbrain) (12.5.4.2)\n",
            "Requirement already satisfied: nvidia-cusparselt-cu12==0.7.1 in /usr/local/lib/python3.12/dist-packages (from torch>=1.9->speechbrain) (0.7.1)\n",
            "Requirement already satisfied: nvidia-nccl-cu12==2.27.3 in /usr/local/lib/python3.12/dist-packages (from torch>=1.9->speechbrain) (2.27.3)\n",
            "Requirement already satisfied: nvidia-nvtx-cu12==12.6.77 in /usr/local/lib/python3.12/dist-packages (from torch>=1.9->speechbrain) (12.6.77)\n",
            "Requirement already satisfied: nvidia-nvjitlink-cu12==12.6.85 in /usr/local/lib/python3.12/dist-packages (from torch>=1.9->speechbrain) (12.6.85)\n",
            "Requirement already satisfied: nvidia-cufile-cu12==1.11.1.6 in /usr/local/lib/python3.12/dist-packages (from torch>=1.9->speechbrain) (1.11.1.6)\n",
            "Requirement already satisfied: triton==3.4.0 in /usr/local/lib/python3.12/dist-packages (from torch>=1.9->speechbrain) (3.4.0)\n",
            "Requirement already satisfied: ruamel.yaml>=0.17.28 in /usr/local/lib/python3.12/dist-packages (from hyperpyyaml->speechbrain) (0.18.15)\n",
            "Requirement already satisfied: python-dateutil>=2.8.2 in /usr/local/lib/python3.12/dist-packages (from pandas->datasets==3.6.0) (2.9.0.post0)\n",
            "Requirement already satisfied: pytz>=2020.1 in /usr/local/lib/python3.12/dist-packages (from pandas->datasets==3.6.0) (2025.2)\n",
            "Requirement already satisfied: tzdata>=2022.7 in /usr/local/lib/python3.12/dist-packages (from pandas->datasets==3.6.0) (2025.2)\n",
            "Requirement already satisfied: aiohappyeyeballs>=2.5.0 in /usr/local/lib/python3.12/dist-packages (from aiohttp!=4.0.0a0,!=4.0.0a1->fsspec[http]<=2025.3.0,>=2023.1.0->datasets==3.6.0) (2.6.1)\n",
            "Requirement already satisfied: aiosignal>=1.4.0 in /usr/local/lib/python3.12/dist-packages (from aiohttp!=4.0.0a0,!=4.0.0a1->fsspec[http]<=2025.3.0,>=2023.1.0->datasets==3.6.0) (1.4.0)\n",
            "Requirement already satisfied: attrs>=17.3.0 in /usr/local/lib/python3.12/dist-packages (from aiohttp!=4.0.0a0,!=4.0.0a1->fsspec[http]<=2025.3.0,>=2023.1.0->datasets==3.6.0) (25.4.0)\n",
            "Requirement already satisfied: frozenlist>=1.1.1 in /usr/local/lib/python3.12/dist-packages (from aiohttp!=4.0.0a0,!=4.0.0a1->fsspec[http]<=2025.3.0,>=2023.1.0->datasets==3.6.0) (1.8.0)\n",
            "Requirement already satisfied: multidict<7.0,>=4.5 in /usr/local/lib/python3.12/dist-packages (from aiohttp!=4.0.0a0,!=4.0.0a1->fsspec[http]<=2025.3.0,>=2023.1.0->datasets==3.6.0) (6.7.0)\n",
            "Requirement already satisfied: propcache>=0.2.0 in /usr/local/lib/python3.12/dist-packages (from aiohttp!=4.0.0a0,!=4.0.0a1->fsspec[http]<=2025.3.0,>=2023.1.0->datasets==3.6.0) (0.3.2)\n",
            "Requirement already satisfied: yarl<2.0,>=1.17.0 in /usr/local/lib/python3.12/dist-packages (from aiohttp!=4.0.0a0,!=4.0.0a1->fsspec[http]<=2025.3.0,>=2023.1.0->datasets==3.6.0) (1.22.0)\n",
            "Requirement already satisfied: smmap<6,>=3.0.1 in /usr/local/lib/python3.12/dist-packages (from gitdb<5,>=4.0.1->gitpython!=3.1.29,>=1.0.0->wandb) (5.0.2)\n",
            "Requirement already satisfied: six>=1.5 in /usr/local/lib/python3.12/dist-packages (from python-dateutil>=2.8.2->pandas->datasets==3.6.0) (1.17.0)\n",
            "Requirement already satisfied: ruamel.yaml.clib>=0.2.7 in /usr/local/lib/python3.12/dist-packages (from ruamel.yaml>=0.17.28->hyperpyyaml->speechbrain) (0.2.14)\n",
            "Requirement already satisfied: mpmath<1.4,>=1.1.0 in /usr/local/lib/python3.12/dist-packages (from sympy>=1.13.3->torch>=1.9->speechbrain) (1.3.0)\n",
            "Requirement already satisfied: MarkupSafe>=2.0 in /usr/local/lib/python3.12/dist-packages (from jinja2->torch>=1.9->speechbrain) (3.0.3)\n"
          ]
        }
      ],
      "source": [
        "%pip install transformers \"datasets==3.6.0\" soundfile speechbrain accelerate wandb\n"
      ]
    },
    {
      "cell_type": "code",
      "execution_count": null,
      "metadata": {},
      "outputs": [],
      "source": [
        "from huggingface_hub import notebook_login, login\n",
        "from google.colab import userdata\n",
        "import wandb\n",
        "\n",
        "from datasets import load_dataset, Audio\n",
        "from collections import defaultdict\n",
        "import matplotlib.pyplot as plt\n",
        "import os\n",
        "import torch\n",
        "from speechbrain.pretrained import EncoderClassifier\n",
        "from dataclasses import dataclass\n",
        "from typing import Any, Dict, List, Union\n",
        "import matplotlib.pyplot as plt\n",
        "\n",
        "from IPython.display import Audio\n",
        "from functools import partial\n",
        "from transformers import SpeechT5Processor\n",
        "from transformers import SpeechT5ForTextToSpeech\n",
        "from transformers import Seq2SeqTrainingArguments\n",
        "from transformers import Seq2SeqTrainer\n",
        "from transformers import SpeechT5ForTextToSpeech\n",
        "from transformers import SpeechT5HifiGan\n"
      ]
    },
    {
      "cell_type": "code",
      "execution_count": null,
      "metadata": {
        "colab": {
          "base_uri": "https://localhost:8080/"
        },
        "id": "i6VgcLCmGDzR",
        "outputId": "8d242b02-bbc6-4dc0-b125-8893ba62df93"
      },
      "outputs": [
        {
          "name": "stdout",
          "output_type": "stream",
          "text": [
            "Sun Oct 12 18:58:23 2025       \n",
            "+-----------------------------------------------------------------------------------------+\n",
            "| NVIDIA-SMI 550.54.15              Driver Version: 550.54.15      CUDA Version: 12.4     |\n",
            "|-----------------------------------------+------------------------+----------------------+\n",
            "| GPU  Name                 Persistence-M | Bus-Id          Disp.A | Volatile Uncorr. ECC |\n",
            "| Fan  Temp   Perf          Pwr:Usage/Cap |           Memory-Usage | GPU-Util  Compute M. |\n",
            "|                                         |                        |               MIG M. |\n",
            "|=========================================+========================+======================|\n",
            "|   0  NVIDIA A100-SXM4-40GB          Off |   00000000:00:04.0 Off |                    0 |\n",
            "| N/A   31C    P0             44W /  400W |       0MiB /  40960MiB |      0%      Default |\n",
            "|                                         |                        |             Disabled |\n",
            "+-----------------------------------------+------------------------+----------------------+\n",
            "                                                                                         \n",
            "+-----------------------------------------------------------------------------------------+\n",
            "| Processes:                                                                              |\n",
            "|  GPU   GI   CI        PID   Type   Process name                              GPU Memory |\n",
            "|        ID   ID                                                               Usage      |\n",
            "|=========================================================================================|\n",
            "|  No running processes found                                                             |\n",
            "+-----------------------------------------------------------------------------------------+\n"
          ]
        }
      ],
      "source": [
        "!nvidia-smi"
      ]
    },
    {
      "cell_type": "code",
      "execution_count": null,
      "metadata": {
        "colab": {
          "base_uri": "https://localhost:8080/",
          "height": 793
        },
        "id": "a8h17uDECsDu",
        "outputId": "06be2306-fc8f-4b1b-88d1-385e59d5285d"
      },
      "outputs": [],
      "source": [
        "HF_TOKEN = os.getenv('HF_TOKEN')\n",
        "WANDB_API_KEY= os.getenv('WANDB_API_KEY')\n",
        "LANGUAGE = \"de\"\n",
        "\n",
        "if WANDB_API_KEY is None or HF_TOKEN is None:\n",
        "  print(\"Please set the HF_TOKEN and WANDB_API_KEY environment variables.\")\n",
        "  \n",
        "\n",
        "os.environ[\"WANDB_PROJECT\"]=\"TTS-voxpopuli\"\n",
        "\n",
        "wandb.login(key=WANDB_API_KEY)\n",
        "login(HF_TOKEN)"
      ]
    },
    {
      "cell_type": "code",
      "execution_count": null,
      "metadata": {
        "colab": {
          "base_uri": "https://localhost:8080/"
        },
        "id": "8JFyythkDLb-",
        "outputId": "950d290e-6bb2-4266-bf95-51b28820f094"
      },
      "outputs": [
        {
          "data": {
            "text/plain": [
              "108473"
            ]
          },
          "execution_count": 24,
          "metadata": {},
          "output_type": "execute_result"
        }
      ],
      "source": [
        "dataset = load_dataset(\"facebook/voxpopuli\", LANGUAGE, split=\"train\", trust_remote_code=True)\n",
        "len(dataset)"
      ]
    },
    {
      "cell_type": "code",
      "execution_count": null,
      "metadata": {
        "id": "-gqXSyPfD9ll"
      },
      "outputs": [],
      "source": [
        "dataset = dataset.cast_column(\"audio\", Audio(sampling_rate=16000))"
      ]
    },
    {
      "cell_type": "code",
      "execution_count": null,
      "metadata": {
        "id": "43M6mRsmD_Ct"
      },
      "outputs": [],
      "source": [
        "\n",
        "checkpoint = \"microsoft/speecht5_tts\"\n",
        "processor = SpeechT5Processor.from_pretrained(checkpoint)"
      ]
    },
    {
      "cell_type": "code",
      "execution_count": null,
      "metadata": {
        "id": "FsPq4xj6EAGM"
      },
      "outputs": [],
      "source": [
        "tokenizer = processor.tokenizer"
      ]
    },
    {
      "cell_type": "code",
      "execution_count": null,
      "metadata": {
        "colab": {
          "base_uri": "https://localhost:8080/"
        },
        "id": "sk7yvipbEBNd",
        "outputId": "9acb6784-3fbb-4525-b1b6-797f26bbfe79"
      },
      "outputs": [
        {
          "data": {
            "text/plain": [
              "{'audio_id': '20120315-0900-PLENARY-14-de_20120315-16:29:53_3',\n",
              " 'language': 1,\n",
              " 'audio': {'path': '/root/.cache/huggingface/datasets/downloads/extracted/087d32c0853da45d490e18b778ac2507443b8b6dcd66c27208cd9d4431980304/train_part_0/20120315-0900-PLENARY-14-de_20120315-16:29:53_3.wav',\n",
              "  'array': array([-0.1496582 , -0.14880371, -0.12649536, ..., -0.00421143,\n",
              "          0.01269531,  0.03085327]),\n",
              "  'sampling_rate': 16000},\n",
              " 'raw_text': 'Natürlich gibt es Übergriffe des Herrscherhauses und des Sicherheitsapparates und der Saudis, die sich dahinter verstecken und die gerne Bahrain in ihren Staat integrieren würden.',\n",
              " 'normalized_text': 'natürlich gibt es übergriffe des herrscherhauses und des sicherheitsapparates und der saudis die sich dahinter verstecken und die gerne bahrain in ihren staat integrieren würden.',\n",
              " 'gender': 'male',\n",
              " 'speaker_id': '2229',\n",
              " 'is_gold_transcript': True,\n",
              " 'accent': 'None'}"
            ]
          },
          "execution_count": 29,
          "metadata": {},
          "output_type": "execute_result"
        }
      ],
      "source": [
        "dataset[0]"
      ]
    },
    {
      "cell_type": "code",
      "execution_count": null,
      "metadata": {
        "colab": {
          "base_uri": "https://localhost:8080/",
          "height": 49,
          "referenced_widgets": [
            "4fd5063065f54312b984f2420fc8046f",
            "48efcefa61164487b18c2524e0aee8c0",
            "870e6664f1d44b25aa7737bedc7fafe6",
            "60d9cd1164734131af062905cb8a3c2a",
            "19c07af62b0e437b8cd4f51ab6eb8e69",
            "be216765f60c41db870a586d07fa5216",
            "4fa37df57be24ee18de457296260566c",
            "9ea02d1479034d71aeaeacf80ec3836d",
            "cab18837c3274485a8bb4e142f1a9bfb",
            "e0f8feb8044a45b19ce69f4a34b144cb",
            "18a35db6efa0488583fc4406c6952b9e"
          ]
        },
        "id": "qiCAeMwZEEj1",
        "outputId": "c4db4315-8484-475f-f671-ab62d561c367"
      },
      "outputs": [
        {
          "data": {
            "application/vnd.jupyter.widget-view+json": {
              "model_id": "4fd5063065f54312b984f2420fc8046f",
              "version_major": 2,
              "version_minor": 0
            },
            "text/plain": [
              "Map:   0%|          | 0/108473 [00:00<?, ? examples/s]"
            ]
          },
          "metadata": {},
          "output_type": "display_data"
        }
      ],
      "source": [
        "def extract_all_chars(batch):\n",
        "    all_text = \" \".join(batch[\"normalized_text\"])\n",
        "    vocab = list(set(all_text))\n",
        "    return {\"vocab\": [vocab], \"all_text\": [all_text]}\n",
        "\n",
        "\n",
        "vocabs = dataset.map(\n",
        "    extract_all_chars,\n",
        "    batched=True,\n",
        "    batch_size=-1,\n",
        "    keep_in_memory=True,\n",
        "    remove_columns=dataset.column_names,\n",
        ")\n",
        "\n",
        "dataset_vocab = set(vocabs[\"vocab\"][0])\n",
        "tokenizer_vocab = {k for k, _ in tokenizer.get_vocab().items()}"
      ]
    },
    {
      "cell_type": "code",
      "execution_count": null,
      "metadata": {
        "colab": {
          "base_uri": "https://localhost:8080/"
        },
        "id": "YYiRtkeUEF98",
        "outputId": "adc20256-14a1-435e-d15f-08039ad895b5"
      },
      "outputs": [
        {
          "data": {
            "text/plain": [
              "{' ', '1', 'ß', 'ä', 'ö', 'ü'}"
            ]
          },
          "execution_count": 31,
          "metadata": {},
          "output_type": "execute_result"
        }
      ],
      "source": [
        "dataset_vocab - tokenizer_vocab"
      ]
    },
    {
      "cell_type": "markdown",
      "metadata": {},
      "source": [
        "The vocabulary of a language might not be in the tokenizer of a TTS model. In this notebook we will use the [VoxPopuli](https://huggingface.co/datasets/facebook/voxpopuli) dataset to finetune a TTS model for German. Therefore one must find replacements of tokens that are not in the tokenizer."
      ]
    },
    {
      "cell_type": "code",
      "execution_count": null,
      "metadata": {
        "colab": {
          "base_uri": "https://localhost:8080/",
          "height": 49,
          "referenced_widgets": [
            "e0f33a4422eb4a6e8f88cdd3363fa2b4",
            "1fa1ad3d6cb24327b3d88810657fb185",
            "bf7c7a6ca6794e8797a8f9240e6cb3e6",
            "515af706ba5740588697d2939acac1c8",
            "275ddc5585d146d999b20a87abe41c68",
            "d05dbb914e6546f3b535edfd15961d9d",
            "7d94d66786c0455a95403685bd9abcd8",
            "df8b07cf84744f6396a18049432b33e0",
            "8f659a7165c04e89bc9a67ecdb1554ff",
            "b5653a79d9d44f608c8fb10328e56814",
            "282ea1f3fc204c7b9d5a97f1e970e621"
          ]
        },
        "id": "CsFM78CPEJnf",
        "outputId": "131dce5d-5ceb-48fa-ec06-e05192e090e1"
      },
      "outputs": [
        {
          "data": {
            "application/vnd.jupyter.widget-view+json": {
              "model_id": "e0f33a4422eb4a6e8f88cdd3363fa2b4",
              "version_major": 2,
              "version_minor": 0
            },
            "text/plain": [
              "Map:   0%|          | 0/108473 [00:00<?, ? examples/s]"
            ]
          },
          "metadata": {},
          "output_type": "display_data"
        }
      ],
      "source": [
        "replacements = [\n",
        "    (\"ß\", \"ss\"),\n",
        "    (\"ä\", \"ae\"),\n",
        "    (\"ö\", \"oe\"),\n",
        "    (\"ü\", \"ue\"),\n",
        "]\n",
        "\n",
        "\n",
        "def cleanup_text(inputs):\n",
        "    for src, dst in replacements:\n",
        "        inputs[\"normalized_text\"] = inputs[\"normalized_text\"].replace(src, dst)\n",
        "    return inputs\n",
        "\n",
        "\n",
        "dataset = dataset.map(cleanup_text)"
      ]
    },
    {
      "cell_type": "code",
      "execution_count": null,
      "metadata": {
        "id": "f_0LAYcQEL8e"
      },
      "outputs": [],
      "source": [
        "speaker_counts = defaultdict(int)\n",
        "\n",
        "for speaker_id in dataset[\"speaker_id\"]:\n",
        "    speaker_counts[speaker_id] += 1"
      ]
    },
    {
      "cell_type": "code",
      "execution_count": null,
      "metadata": {
        "colab": {
          "base_uri": "https://localhost:8080/",
          "height": 449
        },
        "id": "-geA4GeNENhN",
        "outputId": "3eba605f-e5cf-4059-e3a5-ccf9488f6b69"
      },
      "outputs": [
        {
          "data": {
            "image/png": "[encoded data removed]",
            "text/plain": [
              "<Figure size 640x480 with 1 Axes>"
            ]
          },
          "metadata": {},
          "output_type": "display_data"
        }
      ],
      "source": [
        "\n",
        "\n",
        "plt.figure()\n",
        "plt.hist(speaker_counts.values(), bins=20)\n",
        "plt.ylabel(\"Speakers\")\n",
        "plt.xlabel(\"Examples\")\n",
        "plt.show()"
      ]
    },
    {
      "cell_type": "code",
      "execution_count": null,
      "metadata": {
        "colab": {
          "base_uri": "https://localhost:8080/",
          "height": 49,
          "referenced_widgets": [
            "d5339919e6934187964d056e279f4ae0",
            "c92c0083ebdc4a2da5758420f0a06725",
            "ac874f1b226a4984922ca14ed31b79cb",
            "ac96eda8ed7b453499aa8ebdcb8a38fb",
            "eb74c90dce834b6ab6a55a51ea820efe",
            "37645572314f43de966287126b8b367f",
            "44568969497c466aba5a510c0178514e",
            "9d81b7c1ef9842d8aa617250b64aef1a",
            "2aa922616bdf4bbfb4be743737c64e19",
            "948638316a2b44f7a101823a6364a2bf",
            "47bea32325e34fefb4245ea52575c6cf"
          ]
        },
        "id": "xCvYaXpjEOt1",
        "outputId": "2fff7595-cbce-4842-b555-93af6496eff0"
      },
      "outputs": [
        {
          "data": {
            "application/vnd.jupyter.widget-view+json": {
              "model_id": "d5339919e6934187964d056e279f4ae0",
              "version_major": 2,
              "version_minor": 0
            },
            "text/plain": [
              "Filter:   0%|          | 0/108473 [00:00<?, ? examples/s]"
            ]
          },
          "metadata": {},
          "output_type": "display_data"
        }
      ],
      "source": [
        "def select_speaker(speaker_id):\n",
        "    return 100 <= speaker_counts[speaker_id] <= 400\n",
        "\n",
        "\n",
        "dataset = dataset.filter(select_speaker, input_columns=[\"speaker_id\"])"
      ]
    },
    {
      "cell_type": "code",
      "execution_count": null,
      "metadata": {
        "colab": {
          "base_uri": "https://localhost:8080/"
        },
        "id": "dtUG_UOfEP8M",
        "outputId": "3007cc21-496b-488e-813c-6425e78bfc06"
      },
      "outputs": [
        {
          "data": {
            "text/plain": [
              "81"
            ]
          },
          "execution_count": 36,
          "metadata": {},
          "output_type": "execute_result"
        }
      ],
      "source": [
        "len(set(dataset[\"speaker_id\"]))"
      ]
    },
    {
      "cell_type": "code",
      "execution_count": null,
      "metadata": {
        "colab": {
          "base_uri": "https://localhost:8080/"
        },
        "id": "4LqPNMG9ERa8",
        "outputId": "3b9a50e3-e1f8-4d8a-b972-35cc38fef0ee"
      },
      "outputs": [
        {
          "data": {
            "text/plain": [
              "20081"
            ]
          },
          "execution_count": 37,
          "metadata": {},
          "output_type": "execute_result"
        }
      ],
      "source": [
        "len(dataset)"
      ]
    },
    {
      "cell_type": "code",
      "execution_count": null,
      "metadata": {
        "colab": {
          "base_uri": "https://localhost:8080/"
        },
        "id": "qdGBAY7-ESzV",
        "outputId": "5f75c4ee-fa5a-409a-b21f-7501285ffb9c"
      },
      "outputs": [
        {
          "name": "stderr",
          "output_type": "stream",
          "text": [
            "INFO:speechbrain.utils.fetching:Fetch hyperparams.yaml: Using symlink found at '/tmp/speechbrain/spkrec-xvect-voxceleb/hyperparams.yaml'\n",
            "INFO:speechbrain.utils.fetching:Fetch custom.py: Fetching from HuggingFace Hub 'speechbrain/spkrec-xvect-voxceleb' if not cached\n",
            "DEBUG:speechbrain.utils.parameter_transfer:Collecting files (or symlinks) for pretraining in /tmp/speechbrain/spkrec-xvect-voxceleb.\n",
            "INFO:speechbrain.utils.fetching:Fetch embedding_model.ckpt: Using symlink found at '/tmp/speechbrain/spkrec-xvect-voxceleb/embedding_model.ckpt'\n",
            "DEBUG:speechbrain.utils.parameter_transfer:Set local path in self.paths[\"embedding_model\"] = /tmp/speechbrain/spkrec-xvect-voxceleb/embedding_model.ckpt\n",
            "INFO:speechbrain.utils.fetching:Fetch mean_var_norm_emb.ckpt: Using symlink found at '/tmp/speechbrain/spkrec-xvect-voxceleb/mean_var_norm_emb.ckpt'\n",
            "DEBUG:speechbrain.utils.parameter_transfer:Set local path in self.paths[\"mean_var_norm_emb\"] = /tmp/speechbrain/spkrec-xvect-voxceleb/mean_var_norm_emb.ckpt\n",
            "INFO:speechbrain.utils.fetching:Fetch classifier.ckpt: Using symlink found at '/tmp/speechbrain/spkrec-xvect-voxceleb/classifier.ckpt'\n",
            "DEBUG:speechbrain.utils.parameter_transfer:Set local path in self.paths[\"classifier\"] = /tmp/speechbrain/spkrec-xvect-voxceleb/classifier.ckpt\n",
            "INFO:speechbrain.utils.fetching:Fetch label_encoder.txt: Using symlink found at '/tmp/speechbrain/spkrec-xvect-voxceleb/label_encoder.ckpt'\n",
            "DEBUG:speechbrain.utils.parameter_transfer:Set local path in self.paths[\"label_encoder\"] = /tmp/speechbrain/spkrec-xvect-voxceleb/label_encoder.ckpt\n",
            "INFO:speechbrain.utils.parameter_transfer:Loading pretrained files for: embedding_model, mean_var_norm_emb, classifier, label_encoder\n",
            "DEBUG:speechbrain.utils.parameter_transfer:Redirecting (loading from local path): embedding_model -> /tmp/speechbrain/spkrec-xvect-voxceleb/embedding_model.ckpt\n",
            "DEBUG:speechbrain.utils.parameter_transfer:Redirecting (loading from local path): mean_var_norm_emb -> /tmp/speechbrain/spkrec-xvect-voxceleb/mean_var_norm_emb.ckpt\n",
            "DEBUG:speechbrain.utils.parameter_transfer:Redirecting (loading from local path): classifier -> /tmp/speechbrain/spkrec-xvect-voxceleb/classifier.ckpt\n",
            "DEBUG:speechbrain.utils.parameter_transfer:Redirecting (loading from local path): label_encoder -> /tmp/speechbrain/spkrec-xvect-voxceleb/label_encoder.ckpt\n",
            "DEBUG:speechbrain.dataio.encoder:Loaded categorical encoding from /tmp/speechbrain/spkrec-xvect-voxceleb/label_encoder.ckpt\n"
          ]
        }
      ],
      "source": [
        "spk_model_name = \"speechbrain/spkrec-xvect-voxceleb\"\n",
        "\n",
        "device = \"cuda\" if torch.cuda.is_available() else \"cpu\"\n",
        "speaker_model = EncoderClassifier.from_hparams(\n",
        "    source=spk_model_name,\n",
        "    run_opts={\"device\": device},\n",
        "    savedir=os.path.join(\"/tmp\", spk_model_name),\n",
        ")\n",
        "\n",
        "\n",
        "def create_speaker_embedding(waveform):\n",
        "    with torch.no_grad():\n",
        "        speaker_embeddings = speaker_model.encode_batch(torch.tensor(waveform))\n",
        "        speaker_embeddings = torch.nn.functional.normalize(speaker_embeddings, dim=2)\n",
        "        speaker_embeddings = speaker_embeddings.squeeze().cpu().numpy()\n",
        "    return speaker_embeddings"
      ]
    },
    {
      "cell_type": "code",
      "execution_count": null,
      "metadata": {
        "id": "eOWrSmwsEUTV"
      },
      "outputs": [],
      "source": [
        "def prepare_dataset(example):\n",
        "    audio = example[\"audio\"]\n",
        "\n",
        "    example = processor(\n",
        "        text=example[\"normalized_text\"],\n",
        "        audio_target=audio[\"array\"],\n",
        "        sampling_rate=audio[\"sampling_rate\"],\n",
        "        return_attention_mask=False,\n",
        "    )\n",
        "\n",
        "    # strip off the batch dimension\n",
        "    example[\"labels\"] = example[\"labels\"][0]\n",
        "\n",
        "    # use SpeechBrain to obtain x-vector\n",
        "    example[\"speaker_embeddings\"] = create_speaker_embedding(audio[\"array\"])\n",
        "\n",
        "    return example"
      ]
    },
    {
      "cell_type": "code",
      "execution_count": null,
      "metadata": {
        "colab": {
          "base_uri": "https://localhost:8080/"
        },
        "id": "ylcFnQX8EVYk",
        "outputId": "086e1a1c-94ce-496e-d6e4-c9eac890a921"
      },
      "outputs": [
        {
          "data": {
            "text/plain": [
              "['input_ids', 'labels', 'speaker_embeddings']"
            ]
          },
          "execution_count": 40,
          "metadata": {},
          "output_type": "execute_result"
        }
      ],
      "source": [
        "processed_example = prepare_dataset(dataset[0])\n",
        "list(processed_example.keys())"
      ]
    },
    {
      "cell_type": "code",
      "execution_count": null,
      "metadata": {
        "colab": {
          "base_uri": "https://localhost:8080/"
        },
        "id": "UG77yj7jEXQ2",
        "outputId": "60709802-655f-4947-da05-fcbc5a00335d"
      },
      "outputs": [
        {
          "data": {
            "text/plain": [
              "(512,)"
            ]
          },
          "execution_count": 41,
          "metadata": {},
          "output_type": "execute_result"
        }
      ],
      "source": [
        "processed_example[\"speaker_embeddings\"].shape"
      ]
    },
    {
      "cell_type": "code",
      "execution_count": null,
      "metadata": {
        "colab": {
          "base_uri": "https://localhost:8080/",
          "height": 116
        },
        "id": "slnCla12EZLn",
        "outputId": "28da9054-6e2d-4b57-aba2-fc3efe7ef11a"
      },
      "outputs": [
        {
          "data": {
            "image/png": "[encoded data removed]",
            "text/plain": [
              "<Figure size 640x480 with 1 Axes>"
            ]
          },
          "metadata": {},
          "output_type": "display_data"
        }
      ],
      "source": [
        "\n",
        "plt.figure()\n",
        "plt.imshow(processed_example[\"labels\"].T)\n",
        "plt.show()"
      ]
    },
    {
      "cell_type": "code",
      "execution_count": null,
      "metadata": {
        "colab": {
          "base_uri": "https://localhost:8080/",
          "height": 86,
          "referenced_widgets": [
            "16108c46e789458aa427cc32cae42414",
            "1eee7008570645b0991fc7f5bf45ccd1",
            "b287e47ba1ac45818c001d1ccfc2e816",
            "680a055e87c644e1ad85c4e5fe555e9f",
            "a0ed6ee8c8224a54b1b4876432343e47",
            "e4b197543c604f56884fb695945785cb",
            "a056e86944654c0b85a3e94f435c6b2b",
            "480e22348a24409faabce09f4e1937d2",
            "5b9a78e2c8d2465cbd29e6e08edf1b2b",
            "8243254577e342179a869bf21066370f",
            "a3d3c190bf514adb946262855900fddf"
          ]
        },
        "id": "U4e55lCGEaaI",
        "outputId": "cfa12967-8690-44ba-f92a-b1b468948417"
      },
      "outputs": [
        {
          "data": {
            "application/vnd.jupyter.widget-view+json": {
              "model_id": "16108c46e789458aa427cc32cae42414",
              "version_major": 2,
              "version_minor": 0
            },
            "text/plain": [
              "Map:   0%|          | 0/20081 [00:00<?, ? examples/s]"
            ]
          },
          "metadata": {},
          "output_type": "display_data"
        },
        {
          "name": "stderr",
          "output_type": "stream",
          "text": [
            "Token indices sequence length is longer than the specified maximum sequence length for this model (889 > 600). Running this sequence through the model will result in indexing errors\n"
          ]
        }
      ],
      "source": [
        "dataset = dataset.map(prepare_dataset, remove_columns=dataset.column_names)"
      ]
    },
    {
      "cell_type": "code",
      "execution_count": null,
      "metadata": {
        "colab": {
          "base_uri": "https://localhost:8080/",
          "height": 66,
          "referenced_widgets": [
            "d0d29004a28046f088a8c08029a8b520",
            "d345e0dcca494be19e85059320c24f4b",
            "533b63d7fd324d71b1242f78a0f191a8",
            "a49d220eaddd46728d79903b0300aedc",
            "775b213275b3416f8f6c1e8c8617fd7b",
            "9c5faa3c9d04411d984c49483b90ed93",
            "637fcc19ec5d461c9c168552d7a0112c",
            "b07d4eadaf6d4cd090f9f3c1f9fee972",
            "4a235175c1c24c659bd02d4768ff6b01",
            "bf9b26a16ef14919be90f5d28563a308",
            "9292117b3bab49f1ac3e642562000a3b"
          ]
        },
        "id": "WOWDgOdAEbTt",
        "outputId": "206f1b6e-59e2-4da2-bf8a-bae062b3a460"
      },
      "outputs": [
        {
          "data": {
            "application/vnd.jupyter.widget-view+json": {
              "model_id": "d0d29004a28046f088a8c08029a8b520",
              "version_major": 2,
              "version_minor": 0
            },
            "text/plain": [
              "Filter:   0%|          | 0/20081 [00:00<?, ? examples/s]"
            ]
          },
          "metadata": {},
          "output_type": "display_data"
        },
        {
          "data": {
            "text/plain": [
              "15586"
            ]
          },
          "execution_count": 44,
          "metadata": {},
          "output_type": "execute_result"
        }
      ],
      "source": [
        "def is_not_too_long(input_ids):\n",
        "    input_length = len(input_ids)\n",
        "    return input_length < 200\n",
        "\n",
        "\n",
        "dataset = dataset.filter(is_not_too_long, input_columns=[\"input_ids\"])\n",
        "len(dataset)"
      ]
    },
    {
      "cell_type": "code",
      "execution_count": null,
      "metadata": {
        "id": "0-27-7smKaCX"
      },
      "outputs": [],
      "source": [
        "dataset = dataset.train_test_split(test_size=0.1)"
      ]
    },
    {
      "cell_type": "code",
      "execution_count": null,
      "metadata": {
        "id": "bICts_pZEc9G"
      },
      "outputs": [],
      "source": [
        "\n",
        "\n",
        "@dataclass\n",
        "class TTSDataCollatorWithPadding:\n",
        "    processor: Any\n",
        "\n",
        "    def __call__(\n",
        "        self, features: List[Dict[str, Union[List[int], torch.Tensor]]]\n",
        "    ) -> Dict[str, torch.Tensor]:\n",
        "        input_ids = [{\"input_ids\": feature[\"input_ids\"]} for feature in features]\n",
        "        label_features = [{\"input_values\": feature[\"labels\"]} for feature in features]\n",
        "        speaker_features = [feature[\"speaker_embeddings\"] for feature in features]\n",
        "\n",
        "        # collate the inputs and targets into a batch\n",
        "        batch = processor.pad(\n",
        "            input_ids=input_ids, labels=label_features, return_tensors=\"pt\"\n",
        "        )\n",
        "\n",
        "        # replace padding with -100 to ignore loss correctly\n",
        "        batch[\"labels\"] = batch[\"labels\"].masked_fill(\n",
        "            batch.decoder_attention_mask.unsqueeze(-1).ne(1), -100\n",
        "        )\n",
        "\n",
        "        # not used during fine-tuning\n",
        "        del batch[\"decoder_attention_mask\"]\n",
        "\n",
        "        # round down target lengths to multiple of reduction factor\n",
        "        if model.config.reduction_factor > 1:\n",
        "            target_lengths = torch.tensor(\n",
        "                [len(feature[\"input_values\"]) for feature in label_features]\n",
        "            )\n",
        "            target_lengths = target_lengths.new(\n",
        "                [\n",
        "                    length - length % model.config.reduction_factor\n",
        "                    for length in target_lengths\n",
        "                ]\n",
        "            )\n",
        "            max_length = max(target_lengths)\n",
        "            batch[\"labels\"] = batch[\"labels\"][:, :max_length]\n",
        "\n",
        "        # also add in the speaker embeddings\n",
        "        batch[\"speaker_embeddings\"] = torch.tensor(speaker_features)\n",
        "\n",
        "        return batch"
      ]
    },
    {
      "cell_type": "code",
      "execution_count": null,
      "metadata": {
        "id": "0E-7JzH_EeiM"
      },
      "outputs": [],
      "source": [
        "data_collator = TTSDataCollatorWithPadding(processor=processor)"
      ]
    },
    {
      "cell_type": "code",
      "execution_count": null,
      "metadata": {
        "id": "JdfVc0yUJchu"
      },
      "outputs": [],
      "source": [
        "\n",
        "model = SpeechT5ForTextToSpeech.from_pretrained(checkpoint)"
      ]
    },
    {
      "cell_type": "code",
      "execution_count": null,
      "metadata": {
        "id": "rKYezqarEfe1"
      },
      "outputs": [],
      "source": [
        "\n",
        "\n",
        "# disable cache during training since it's incompatible with gradient checkpointing\n",
        "model.config.use_cache = False\n",
        "\n",
        "# set language and task for generation and re-enable cache\n",
        "model.generate = partial(model.generate, use_cache=True)"
      ]
    },
    {
      "cell_type": "code",
      "execution_count": null,
      "metadata": {
        "id": "JCwiUTgeEgXm"
      },
      "outputs": [],
      "source": [
        "\n",
        "\n",
        "training_args = Seq2SeqTrainingArguments(\n",
        "    output_dir=f\"speecht5_finetuned_voxpopuli_{LANGUAGE}\",\n",
        "    per_device_train_batch_size=4,\n",
        "    gradient_accumulation_steps=8,\n",
        "    learning_rate=1e-5,\n",
        "    warmup_steps=500,\n",
        "    max_steps=40_000,\n",
        "    gradient_checkpointing=True,\n",
        "    # This is important to fix the backward error\n",
        "    gradient_checkpointing_kwargs={\"use_reentrant\": False},\n",
        "    fp16=True,\n",
        "    eval_strategy=\"steps\",\n",
        "    per_device_eval_batch_size=2,\n",
        "    save_steps=1000,\n",
        "    eval_steps=1000,\n",
        "    logging_steps=25,\n",
        "    report_to=[\"tensorboard\", \"wandb\"],\n",
        "    load_best_model_at_end=True,\n",
        "    greater_is_better=False,\n",
        "    label_names=[\"labels\"],\n",
        "    push_to_hub=True,\n",
        ")"
      ]
    },
    {
      "cell_type": "code",
      "execution_count": null,
      "metadata": {
        "colab": {
          "base_uri": "https://localhost:8080/"
        },
        "id": "koFPt5EVEhoV",
        "outputId": "c5a63de0-aa4a-4432-afec-eb2e9b958158"
      },
      "outputs": [
        {
          "name": "stderr",
          "output_type": "stream",
          "text": [
            "/tmp/ipython-input-1231872571.py:3: FutureWarning: `tokenizer` is deprecated and will be removed in version 5.0.0 for `Seq2SeqTrainer.__init__`. Use `processing_class` instead.\n",
            "  trainer = Seq2SeqTrainer(\n"
          ]
        }
      ],
      "source": [
        "trainer = Seq2SeqTrainer(\n",
        "    args=training_args,\n",
        "    model=model,\n",
        "    train_dataset=dataset[\"train\"],\n",
        "    eval_dataset=dataset[\"test\"],\n",
        "    data_collator=data_collator,\n",
        "    tokenizer=processor,\n",
        ")"
      ]
    },
    {
      "cell_type": "code",
      "execution_count": null,
      "metadata": {
        "colab": {
          "background_save": true,
          "base_uri": "https://localhost:8080/",
          "height": 369
        },
        "id": "i8ObNHaPEi3d",
        "outputId": "ea836b82-640a-4038-9535-805c5bc711cb"
      },
      "outputs": [
        {
          "data": {
            "text/html": [],
            "text/plain": [
              "<IPython.core.display.HTML object>"
            ]
          },
          "metadata": {},
          "output_type": "display_data"
        },
        {
          "data": {
            "text/html": [
              "Tracking run with wandb version 0.22.2"
            ],
            "text/plain": [
              "<IPython.core.display.HTML object>"
            ]
          },
          "metadata": {},
          "output_type": "display_data"
        },
        {
          "data": {
            "text/html": [
              "Run data is saved locally in <code>/content/wandb/run-20251012_143241-f6lzslrr</code>"
            ],
            "text/plain": [
              "<IPython.core.display.HTML object>"
            ]
          },
          "metadata": {},
          "output_type": "display_data"
        },
        {
          "data": {
            "text/html": [
              "Syncing run <strong><a href='https://wandb.ai/sverrenystad-ntnu/TTS-voxpopuli/runs/f6lzslrr' target=\"_blank\">unique-forest-2</a></strong> to <a href='https://wandb.ai/sverrenystad-ntnu/TTS-voxpopuli' target=\"_blank\">Weights & Biases</a> (<a href='https://wandb.me/developer-guide' target=\"_blank\">docs</a>)<br>"
            ],
            "text/plain": [
              "<IPython.core.display.HTML object>"
            ]
          },
          "metadata": {},
          "output_type": "display_data"
        },
        {
          "data": {
            "text/html": [
              " View project at <a href='https://wandb.ai/sverrenystad-ntnu/TTS-voxpopuli' target=\"_blank\">https://wandb.ai/sverrenystad-ntnu/TTS-voxpopuli</a>"
            ],
            "text/plain": [
              "<IPython.core.display.HTML object>"
            ]
          },
          "metadata": {},
          "output_type": "display_data"
        },
        {
          "data": {
            "text/html": [
              " View run at <a href='https://wandb.ai/sverrenystad-ntnu/TTS-voxpopuli/runs/f6lzslrr' target=\"_blank\">https://wandb.ai/sverrenystad-ntnu/TTS-voxpopuli/runs/f6lzslrr</a>"
            ],
            "text/plain": [
              "<IPython.core.display.HTML object>"
            ]
          },
          "metadata": {},
          "output_type": "display_data"
        },
        {
          "data": {
            "text/html": [
              "\n",
              "    <div>\n",
              "      \n",
              "      <progress value='4000' max='4000' style='width:300px; height:20px; vertical-align: middle;'></progress>\n",
              "      [4000/4000 2:11:21, Epoch 9/10]\n",
              "    </div>\n",
              "    <table border=\"1\" class=\"dataframe\">\n",
              "  <thead>\n",
              " <tr style=\"text-align: left;\">\n",
              "      <th>Step</th>\n",
              "      <th>Training Loss</th>\n",
              "      <th>Validation Loss</th>\n",
              "    </tr>\n",
              "  </thead>\n",
              "  <tbody>\n",
              "    <tr>\n",
              "      <td>1000</td>\n",
              "      <td>0.527100</td>\n",
              "      <td>0.484735</td>\n",
              "    </tr>\n",
              "    <tr>\n",
              "      <td>2000</td>\n",
              "      <td>0.505300</td>\n",
              "      <td>0.471582</td>\n",
              "    </tr>\n",
              "    <tr>\n",
              "      <td>3000</td>\n",
              "      <td>0.505100</td>\n",
              "      <td>0.466454</td>\n",
              "    </tr>\n",
              "    <tr>\n",
              "      <td>4000</td>\n",
              "      <td>0.502200</td>\n",
              "      <td>0.463496</td>\n",
              "    </tr>\n",
              "  </tbody>\n",
              "</table><p>"
            ],
            "text/plain": [
              "<IPython.core.display.HTML object>"
            ]
          },
          "metadata": {},
          "output_type": "display_data"
        },
        {
          "name": "stderr",
          "output_type": "stream",
          "text": [
            "/usr/local/lib/python3.12/dist-packages/transformers/modeling_utils.py:3922: UserWarning: Moving the following attributes in the config to the generation config: {'max_length': 1876}. You are seeing this warning because you've set generation parameters in the model config, as opposed to in the generation config.\n",
            "  warnings.warn(\n"
          ]
        },
        {
          "data": {
            "text/plain": [
              "TrainOutput(global_step=4000, training_loss=0.5300946877002716, metrics={'train_runtime': 7885.5277, 'train_samples_per_second': 16.232, 'train_steps_per_second': 0.507, 'total_flos': 1.7332998434463888e+16, 'train_loss': 0.5300946877002716, 'epoch': 9.111776447105788})"
            ]
          },
          "execution_count": 52,
          "metadata": {},
          "output_type": "execute_result"
        }
      ],
      "source": [
        "trainer.train()"
      ]
    },
    {
      "cell_type": "code",
      "execution_count": null,
      "metadata": {
        "colab": {
          "background_save": true,
          "referenced_widgets": [
            "d1760418e7644b419450f80f2c060550",
            "5a5e72005c144574bcf3e5c0acb69533",
            "5b1dd7cc27e149149ea85ca284a54f3d",
            "2a938c66ac87454abcb8101fdacb8a6b",
            "d76f2377ca0f4d03a62e7538f5aa492d",
            "f86afda4f31941fb96c63dd5ab30a416"
          ]
        },
        "id": "gNxTalqhEj_e",
        "outputId": "90b12f29-36cd-4e8e-827b-93694b7d0fe9"
      },
      "outputs": [],
      "source": [
        "trainer.push_to_hub()"
      ]
    },
    {
      "cell_type": "code",
      "execution_count": null,
      "metadata": {
        "colab": {
          "background_save": true,
          "referenced_widgets": [
            "6e17c617381c409fb5a1f8eab4e4e3f0",
            "823bcd466af2443e8759943f1796950b",
            "bcfd45278cc0450ebb931813021cd655"
          ]
        },
        "id": "W8L3CGwYElD3",
        "outputId": "0910a29f-d706-4dc9-e90a-08ae92239edf"
      },
      "outputs": [],
      "source": [
        "\n",
        "model = SpeechT5ForTextToSpeech.from_pretrained(\n",
        "    f\"SverreNystad/speecht5_finetuned_voxpopuli_{LANGUAGE}\"\n",
        ")"
      ]
    },
    {
      "cell_type": "code",
      "execution_count": null,
      "metadata": {
        "colab": {
          "background_save": true
        },
        "id": "BkFIxKj1EqEU"
      },
      "outputs": [],
      "source": [
        "example = dataset[\"test\"][1]\n",
        "speaker_embeddings = torch.tensor(example[\"speaker_embeddings\"]).unsqueeze(0)"
      ]
    },
    {
      "cell_type": "code",
      "execution_count": null,
      "metadata": {
        "colab": {
          "background_save": true
        },
        "id": "xHMH3z4DErOF"
      },
      "outputs": [],
      "source": [
        "text = \"Ich bin ein Berliner! Meine Name bin Sverre Nystad. Ich libe Deutch!\""
      ]
    },
    {
      "cell_type": "code",
      "execution_count": null,
      "metadata": {
        "colab": {
          "background_save": true
        },
        "id": "ehMMWlcjEsPv"
      },
      "outputs": [],
      "source": [
        "inputs = processor(text=text, return_tensors=\"pt\")"
      ]
    },
    {
      "cell_type": "code",
      "execution_count": null,
      "metadata": {
        "colab": {
          "background_save": true
        },
        "id": "bQ_LrJJEEtqi"
      },
      "outputs": [],
      "source": [
        "\n",
        "vocoder = SpeechT5HifiGan.from_pretrained(\"microsoft/speecht5_hifigan\")\n",
        "speech = model.generate_speech(inputs[\"input_ids\"], speaker_embeddings, vocoder=vocoder)"
      ]
    },
    {
      "cell_type": "code",
      "execution_count": null,
      "metadata": {
        "colab": {
          "background_save": true
        },
        "id": "Wx8tZxuREu4O",
        "outputId": "02936dab-88dc-40e4-edb7-476cfea6d9d7"
      },
      "outputs": [
        {
          "data": {
            "text/html": [
              "\n",
              "                <audio  controls=\"controls\" >\n",
              "                    <source src=\"data:audio/wav;base64,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\" type=\"audio/wav\" />\n",
              "                    Your browser does not support the audio element.\n",
              "                </audio>\n",
              "              "
            ],
            "text/plain": [
              "<IPython.lib.display.Audio object>"
            ]
          },
          "execution_count": 59,
          "metadata": {},
          "output_type": "execute_result"
        }
      ],
      "source": [
        "Audio(speech.numpy(), rate=16000)"
      ]
    }
  ],
  "metadata": {
    "accelerator": "GPU",
    "colab": {
      "gpuType": "A100",
      "provenance": []
    },
    "kernelspec": {
      "display_name": "Python 3",
      "name": "python3"
    },
    "language_info": {
      "name": "python"
    },
    "widgets": {
      "application/vnd.jupyter.widget-state+json": {
        "16108c46e789458aa427cc32cae42414": {
          "model_module": "@jupyter-widgets/controls",
          "model_module_version": "1.5.0",
          "model_name": "HBoxModel",
          "state": {
            "_dom_classes": [],
            "_model_module": "@jupyter-widgets/controls",
            "_model_module_version": "1.5.0",
            "_model_name": "HBoxModel",
            "_view_count": null,
            "_view_module": "@jupyter-widgets/controls",
            "_view_module_version": "1.5.0",
            "_view_name": "HBoxView",
            "box_style": "",
            "children": [
              "IPY_MODEL_1eee7008570645b0991fc7f5bf45ccd1",
              "IPY_MODEL_b287e47ba1ac45818c001d1ccfc2e816",
              "IPY_MODEL_680a055e87c644e1ad85c4e5fe555e9f"
            ],
            "layout": "IPY_MODEL_a0ed6ee8c8224a54b1b4876432343e47"
          }
        },
        "18a35db6efa0488583fc4406c6952b9e": {
          "model_module": "@jupyter-widgets/controls",
          "model_module_version": "1.5.0",
          "model_name": "DescriptionStyleModel",
          "state": {
            "_model_module": "@jupyter-widgets/controls",
            "_model_module_version": "1.5.0",
            "_model_name": "DescriptionStyleModel",
            "_view_count": null,
            "_view_module": "@jupyter-widgets/base",
            "_view_module_version": "1.2.0",
            "_view_name": "StyleView",
            "description_width": ""
          }
        },
        "19c07af62b0e437b8cd4f51ab6eb8e69": {
          "model_module": "@jupyter-widgets/base",
          "model_module_version": "1.2.0",
          "model_name": "LayoutModel",
          "state": {
            "_model_module": "@jupyter-widgets/base",
            "_model_module_version": "1.2.0",
            "_model_name": "LayoutModel",
            "_view_count": null,
            "_view_module": "@jupyter-widgets/base",
            "_view_module_version": "1.2.0",
            "_view_name": "LayoutView",
            "align_content": null,
            "align_items": null,
            "align_self": null,
            "border": null,
            "bottom": null,
            "display": null,
            "flex": null,
            "flex_flow": null,
            "grid_area": null,
            "grid_auto_columns": null,
            "grid_auto_flow": null,
            "grid_auto_rows": null,
            "grid_column": null,
            "grid_gap": null,
            "grid_row": null,
            "grid_template_areas": null,
            "grid_template_columns": null,
            "grid_template_rows": null,
            "height": null,
            "justify_content": null,
            "justify_items": null,
            "left": null,
            "margin": null,
            "max_height": null,
            "max_width": null,
            "min_height": null,
            "min_width": null,
            "object_fit": null,
            "object_position": null,
            "order": null,
            "overflow": null,
            "overflow_x": null,
            "overflow_y": null,
            "padding": null,
            "right": null,
            "top": null,
            "visibility": null,
            "width": null
          }
        },
        "1eee7008570645b0991fc7f5bf45ccd1": {
          "model_module": "@jupyter-widgets/controls",
          "model_module_version": "1.5.0",
          "model_name": "HTMLModel",
          "state": {
            "_dom_classes": [],
            "_model_module": "@jupyter-widgets/controls",
            "_model_module_version": "1.5.0",
            "_model_name": "HTMLModel",
            "_view_count": null,
            "_view_module": "@jupyter-widgets/controls",
            "_view_module_version": "1.5.0",
            "_view_name": "HTMLView",
            "description": "",
            "description_tooltip": null,
            "layout": "IPY_MODEL_e4b197543c604f56884fb695945785cb",
            "placeholder": "​",
            "style": "IPY_MODEL_a056e86944654c0b85a3e94f435c6b2b",
            "value": "Map: 100%"
          }
        },
        "1fa1ad3d6cb24327b3d88810657fb185": {
          "model_module": "@jupyter-widgets/controls",
          "model_module_version": "1.5.0",
          "model_name": "HTMLModel",
          "state": {
            "_dom_classes": [],
            "_model_module": "@jupyter-widgets/controls",
            "_model_module_version": "1.5.0",
            "_model_name": "HTMLModel",
            "_view_count": null,
            "_view_module": "@jupyter-widgets/controls",
            "_view_module_version": "1.5.0",
            "_view_name": "HTMLView",
            "description": "",
            "description_tooltip": null,
            "layout": "IPY_MODEL_d05dbb914e6546f3b535edfd15961d9d",
            "placeholder": "​",
            "style": "IPY_MODEL_7d94d66786c0455a95403685bd9abcd8",
            "value": "Map: 100%"
          }
        },
        "275ddc5585d146d999b20a87abe41c68": {
          "model_module": "@jupyter-widgets/base",
          "model_module_version": "1.2.0",
          "model_name": "LayoutModel",
          "state": {
            "_model_module": "@jupyter-widgets/base",
            "_model_module_version": "1.2.0",
            "_model_name": "LayoutModel",
            "_view_count": null,
            "_view_module": "@jupyter-widgets/base",
            "_view_module_version": "1.2.0",
            "_view_name": "LayoutView",
            "align_content": null,
            "align_items": null,
            "align_self": null,
            "border": null,
            "bottom": null,
            "display": null,
            "flex": null,
            "flex_flow": null,
            "grid_area": null,
            "grid_auto_columns": null,
            "grid_auto_flow": null,
            "grid_auto_rows": null,
            "grid_column": null,
            "grid_gap": null,
            "grid_row": null,
            "grid_template_areas": null,
            "grid_template_columns": null,
            "grid_template_rows": null,
            "height": null,
            "justify_content": null,
            "justify_items": null,
            "left": null,
            "margin": null,
            "max_height": null,
            "max_width": null,
            "min_height": null,
            "min_width": null,
            "object_fit": null,
            "object_position": null,
            "order": null,
            "overflow": null,
            "overflow_x": null,
            "overflow_y": null,
            "padding": null,
            "right": null,
            "top": null,
            "visibility": null,
            "width": null
          }
        },
        "282ea1f3fc204c7b9d5a97f1e970e621": {
          "model_module": "@jupyter-widgets/controls",
          "model_module_version": "1.5.0",
          "model_name": "DescriptionStyleModel",
          "state": {
            "_model_module": "@jupyter-widgets/controls",
            "_model_module_version": "1.5.0",
            "_model_name": "DescriptionStyleModel",
            "_view_count": null,
            "_view_module": "@jupyter-widgets/base",
            "_view_module_version": "1.2.0",
            "_view_name": "StyleView",
            "description_width": ""
          }
        },
        "2aa922616bdf4bbfb4be743737c64e19": {
          "model_module": "@jupyter-widgets/controls",
          "model_module_version": "1.5.0",
          "model_name": "ProgressStyleModel",
          "state": {
            "_model_module": "@jupyter-widgets/controls",
            "_model_module_version": "1.5.0",
            "_model_name": "ProgressStyleModel",
            "_view_count": null,
            "_view_module": "@jupyter-widgets/base",
            "_view_module_version": "1.2.0",
            "_view_name": "StyleView",
            "bar_color": null,
            "description_width": ""
          }
        },
        "37645572314f43de966287126b8b367f": {
          "model_module": "@jupyter-widgets/base",
          "model_module_version": "1.2.0",
          "model_name": "LayoutModel",
          "state": {
            "_model_module": "@jupyter-widgets/base",
            "_model_module_version": "1.2.0",
            "_model_name": "LayoutModel",
            "_view_count": null,
            "_view_module": "@jupyter-widgets/base",
            "_view_module_version": "1.2.0",
            "_view_name": "LayoutView",
            "align_content": null,
            "align_items": null,
            "align_self": null,
            "border": null,
            "bottom": null,
            "display": null,
            "flex": null,
            "flex_flow": null,
            "grid_area": null,
            "grid_auto_columns": null,
            "grid_auto_flow": null,
            "grid_auto_rows": null,
            "grid_column": null,
            "grid_gap": null,
            "grid_row": null,
            "grid_template_areas": null,
            "grid_template_columns": null,
            "grid_template_rows": null,
            "height": null,
            "justify_content": null,
            "justify_items": null,
            "left": null,
            "margin": null,
            "max_height": null,
            "max_width": null,
            "min_height": null,
            "min_width": null,
            "object_fit": null,
            "object_position": null,
            "order": null,
            "overflow": null,
            "overflow_x": null,
            "overflow_y": null,
            "padding": null,
            "right": null,
            "top": null,
            "visibility": null,
            "width": null
          }
        },
        "44568969497c466aba5a510c0178514e": {
          "model_module": "@jupyter-widgets/controls",
          "model_module_version": "1.5.0",
          "model_name": "DescriptionStyleModel",
          "state": {
            "_model_module": "@jupyter-widgets/controls",
            "_model_module_version": "1.5.0",
            "_model_name": "DescriptionStyleModel",
            "_view_count": null,
            "_view_module": "@jupyter-widgets/base",
            "_view_module_version": "1.2.0",
            "_view_name": "StyleView",
            "description_width": ""
          }
        },
        "47bea32325e34fefb4245ea52575c6cf": {
          "model_module": "@jupyter-widgets/controls",
          "model_module_version": "1.5.0",
          "model_name": "DescriptionStyleModel",
          "state": {
            "_model_module": "@jupyter-widgets/controls",
            "_model_module_version": "1.5.0",
            "_model_name": "DescriptionStyleModel",
            "_view_count": null,
            "_view_module": "@jupyter-widgets/base",
            "_view_module_version": "1.2.0",
            "_view_name": "StyleView",
            "description_width": ""
          }
        },
        "480e22348a24409faabce09f4e1937d2": {
          "model_module": "@jupyter-widgets/base",
          "model_module_version": "1.2.0",
          "model_name": "LayoutModel",
          "state": {
            "_model_module": "@jupyter-widgets/base",
            "_model_module_version": "1.2.0",
            "_model_name": "LayoutModel",
            "_view_count": null,
            "_view_module": "@jupyter-widgets/base",
            "_view_module_version": "1.2.0",
            "_view_name": "LayoutView",
            "align_content": null,
            "align_items": null,
            "align_self": null,
            "border": null,
            "bottom": null,
            "display": null,
            "flex": null,
            "flex_flow": null,
            "grid_area": null,
            "grid_auto_columns": null,
            "grid_auto_flow": null,
            "grid_auto_rows": null,
            "grid_column": null,
            "grid_gap": null,
            "grid_row": null,
            "grid_template_areas": null,
            "grid_template_columns": null,
            "grid_template_rows": null,
            "height": null,
            "justify_content": null,
            "justify_items": null,
            "left": null,
            "margin": null,
            "max_height": null,
            "max_width": null,
            "min_height": null,
            "min_width": null,
            "object_fit": null,
            "object_position": null,
            "order": null,
            "overflow": null,
            "overflow_x": null,
            "overflow_y": null,
            "padding": null,
            "right": null,
            "top": null,
            "visibility": null,
            "width": null
          }
        },
        "48efcefa61164487b18c2524e0aee8c0": {
          "model_module": "@jupyter-widgets/controls",
          "model_module_version": "1.5.0",
          "model_name": "HTMLModel",
          "state": {
            "_dom_classes": [],
            "_model_module": "@jupyter-widgets/controls",
            "_model_module_version": "1.5.0",
            "_model_name": "HTMLModel",
            "_view_count": null,
            "_view_module": "@jupyter-widgets/controls",
            "_view_module_version": "1.5.0",
            "_view_name": "HTMLView",
            "description": "",
            "description_tooltip": null,
            "layout": "IPY_MODEL_be216765f60c41db870a586d07fa5216",
            "placeholder": "​",
            "style": "IPY_MODEL_4fa37df57be24ee18de457296260566c",
            "value": "Map: 100%"
          }
        },
        "4a235175c1c24c659bd02d4768ff6b01": {
          "model_module": "@jupyter-widgets/controls",
          "model_module_version": "1.5.0",
          "model_name": "ProgressStyleModel",
          "state": {
            "_model_module": "@jupyter-widgets/controls",
            "_model_module_version": "1.5.0",
            "_model_name": "ProgressStyleModel",
            "_view_count": null,
            "_view_module": "@jupyter-widgets/base",
            "_view_module_version": "1.2.0",
            "_view_name": "StyleView",
            "bar_color": null,
            "description_width": ""
          }
        },
        "4fa37df57be24ee18de457296260566c": {
          "model_module": "@jupyter-widgets/controls",
          "model_module_version": "1.5.0",
          "model_name": "DescriptionStyleModel",
          "state": {
            "_model_module": "@jupyter-widgets/controls",
            "_model_module_version": "1.5.0",
            "_model_name": "DescriptionStyleModel",
            "_view_count": null,
            "_view_module": "@jupyter-widgets/base",
            "_view_module_version": "1.2.0",
            "_view_name": "StyleView",
            "description_width": ""
          }
        },
        "4fd5063065f54312b984f2420fc8046f": {
          "model_module": "@jupyter-widgets/controls",
          "model_module_version": "1.5.0",
          "model_name": "HBoxModel",
          "state": {
            "_dom_classes": [],
            "_model_module": "@jupyter-widgets/controls",
            "_model_module_version": "1.5.0",
            "_model_name": "HBoxModel",
            "_view_count": null,
            "_view_module": "@jupyter-widgets/controls",
            "_view_module_version": "1.5.0",
            "_view_name": "HBoxView",
            "box_style": "",
            "children": [
              "IPY_MODEL_48efcefa61164487b18c2524e0aee8c0",
              "IPY_MODEL_870e6664f1d44b25aa7737bedc7fafe6",
              "IPY_MODEL_60d9cd1164734131af062905cb8a3c2a"
            ],
            "layout": "IPY_MODEL_19c07af62b0e437b8cd4f51ab6eb8e69"
          }
        },
        "515af706ba5740588697d2939acac1c8": {
          "model_module": "@jupyter-widgets/controls",
          "model_module_version": "1.5.0",
          "model_name": "HTMLModel",
          "state": {
            "_dom_classes": [],
            "_model_module": "@jupyter-widgets/controls",
            "_model_module_version": "1.5.0",
            "_model_name": "HTMLModel",
            "_view_count": null,
            "_view_module": "@jupyter-widgets/controls",
            "_view_module_version": "1.5.0",
            "_view_name": "HTMLView",
            "description": "",
            "description_tooltip": null,
            "layout": "IPY_MODEL_b5653a79d9d44f608c8fb10328e56814",
            "placeholder": "​",
            "style": "IPY_MODEL_282ea1f3fc204c7b9d5a97f1e970e621",
            "value": " 108473/108473 [00:17&lt;00:00, 9439.23 examples/s]"
          }
        },
        "533b63d7fd324d71b1242f78a0f191a8": {
          "model_module": "@jupyter-widgets/controls",
          "model_module_version": "1.5.0",
          "model_name": "FloatProgressModel",
          "state": {
            "_dom_classes": [],
            "_model_module": "@jupyter-widgets/controls",
            "_model_module_version": "1.5.0",
            "_model_name": "FloatProgressModel",
            "_view_count": null,
            "_view_module": "@jupyter-widgets/controls",
            "_view_module_version": "1.5.0",
            "_view_name": "ProgressView",
            "bar_style": "success",
            "description": "",
            "description_tooltip": null,
            "layout": "IPY_MODEL_b07d4eadaf6d4cd090f9f3c1f9fee972",
            "max": 20081,
            "min": 0,
            "orientation": "horizontal",
            "style": "IPY_MODEL_4a235175c1c24c659bd02d4768ff6b01",
            "value": 20081
          }
        },
        "5b9a78e2c8d2465cbd29e6e08edf1b2b": {
          "model_module": "@jupyter-widgets/controls",
          "model_module_version": "1.5.0",
          "model_name": "ProgressStyleModel",
          "state": {
            "_model_module": "@jupyter-widgets/controls",
            "_model_module_version": "1.5.0",
            "_model_name": "ProgressStyleModel",
            "_view_count": null,
            "_view_module": "@jupyter-widgets/base",
            "_view_module_version": "1.2.0",
            "_view_name": "StyleView",
            "bar_color": null,
            "description_width": ""
          }
        },
        "60d9cd1164734131af062905cb8a3c2a": {
          "model_module": "@jupyter-widgets/controls",
          "model_module_version": "1.5.0",
          "model_name": "HTMLModel",
          "state": {
            "_dom_classes": [],
            "_model_module": "@jupyter-widgets/controls",
            "_model_module_version": "1.5.0",
            "_model_name": "HTMLModel",
            "_view_count": null,
            "_view_module": "@jupyter-widgets/controls",
            "_view_module_version": "1.5.0",
            "_view_name": "HTMLView",
            "description": "",
            "description_tooltip": null,
            "layout": "IPY_MODEL_e0f8feb8044a45b19ce69f4a34b144cb",
            "placeholder": "​",
            "style": "IPY_MODEL_18a35db6efa0488583fc4406c6952b9e",
            "value": " 108473/108473 [00:00&lt;00:00, 266424.74 examples/s]"
          }
        },
        "637fcc19ec5d461c9c168552d7a0112c": {
          "model_module": "@jupyter-widgets/controls",
          "model_module_version": "1.5.0",
          "model_name": "DescriptionStyleModel",
          "state": {
            "_model_module": "@jupyter-widgets/controls",
            "_model_module_version": "1.5.0",
            "_model_name": "DescriptionStyleModel",
            "_view_count": null,
            "_view_module": "@jupyter-widgets/base",
            "_view_module_version": "1.2.0",
            "_view_name": "StyleView",
            "description_width": ""
          }
        },
        "680a055e87c644e1ad85c4e5fe555e9f": {
          "model_module": "@jupyter-widgets/controls",
          "model_module_version": "1.5.0",
          "model_name": "HTMLModel",
          "state": {
            "_dom_classes": [],
            "_model_module": "@jupyter-widgets/controls",
            "_model_module_version": "1.5.0",
            "_model_name": "HTMLModel",
            "_view_count": null,
            "_view_module": "@jupyter-widgets/controls",
            "_view_module_version": "1.5.0",
            "_view_name": "HTMLView",
            "description": "",
            "description_tooltip": null,
            "layout": "IPY_MODEL_8243254577e342179a869bf21066370f",
            "placeholder": "​",
            "style": "IPY_MODEL_a3d3c190bf514adb946262855900fddf",
            "value": " 20081/20081 [13:58&lt;00:00, 26.95 examples/s]"
          }
        },
        "775b213275b3416f8f6c1e8c8617fd7b": {
          "model_module": "@jupyter-widgets/base",
          "model_module_version": "1.2.0",
          "model_name": "LayoutModel",
          "state": {
            "_model_module": "@jupyter-widgets/base",
            "_model_module_version": "1.2.0",
            "_model_name": "LayoutModel",
            "_view_count": null,
            "_view_module": "@jupyter-widgets/base",
            "_view_module_version": "1.2.0",
            "_view_name": "LayoutView",
            "align_content": null,
            "align_items": null,
            "align_self": null,
            "border": null,
            "bottom": null,
            "display": null,
            "flex": null,
            "flex_flow": null,
            "grid_area": null,
            "grid_auto_columns": null,
            "grid_auto_flow": null,
            "grid_auto_rows": null,
            "grid_column": null,
            "grid_gap": null,
            "grid_row": null,
            "grid_template_areas": null,
            "grid_template_columns": null,
            "grid_template_rows": null,
            "height": null,
            "justify_content": null,
            "justify_items": null,
            "left": null,
            "margin": null,
            "max_height": null,
            "max_width": null,
            "min_height": null,
            "min_width": null,
            "object_fit": null,
            "object_position": null,
            "order": null,
            "overflow": null,
            "overflow_x": null,
            "overflow_y": null,
            "padding": null,
            "right": null,
            "top": null,
            "visibility": null,
            "width": null
          }
        },
        "7d94d66786c0455a95403685bd9abcd8": {
          "model_module": "@jupyter-widgets/controls",
          "model_module_version": "1.5.0",
          "model_name": "DescriptionStyleModel",
          "state": {
            "_model_module": "@jupyter-widgets/controls",
            "_model_module_version": "1.5.0",
            "_model_name": "DescriptionStyleModel",
            "_view_count": null,
            "_view_module": "@jupyter-widgets/base",
            "_view_module_version": "1.2.0",
            "_view_name": "StyleView",
            "description_width": ""
          }
        },
        "8243254577e342179a869bf21066370f": {
          "model_module": "@jupyter-widgets/base",
          "model_module_version": "1.2.0",
          "model_name": "LayoutModel",
          "state": {
            "_model_module": "@jupyter-widgets/base",
            "_model_module_version": "1.2.0",
            "_model_name": "LayoutModel",
            "_view_count": null,
            "_view_module": "@jupyter-widgets/base",
            "_view_module_version": "1.2.0",
            "_view_name": "LayoutView",
            "align_content": null,
            "align_items": null,
            "align_self": null,
            "border": null,
            "bottom": null,
            "display": null,
            "flex": null,
            "flex_flow": null,
            "grid_area": null,
            "grid_auto_columns": null,
            "grid_auto_flow": null,
            "grid_auto_rows": null,
            "grid_column": null,
            "grid_gap": null,
            "grid_row": null,
            "grid_template_areas": null,
            "grid_template_columns": null,
            "grid_template_rows": null,
            "height": null,
            "justify_content": null,
            "justify_items": null,
            "left": null,
            "margin": null,
            "max_height": null,
            "max_width": null,
            "min_height": null,
            "min_width": null,
            "object_fit": null,
            "object_position": null,
            "order": null,
            "overflow": null,
            "overflow_x": null,
            "overflow_y": null,
            "padding": null,
            "right": null,
            "top": null,
            "visibility": null,
            "width": null
          }
        },
        "870e6664f1d44b25aa7737bedc7fafe6": {
          "model_module": "@jupyter-widgets/controls",
          "model_module_version": "1.5.0",
          "model_name": "FloatProgressModel",
          "state": {
            "_dom_classes": [],
            "_model_module": "@jupyter-widgets/controls",
            "_model_module_version": "1.5.0",
            "_model_name": "FloatProgressModel",
            "_view_count": null,
            "_view_module": "@jupyter-widgets/controls",
            "_view_module_version": "1.5.0",
            "_view_name": "ProgressView",
            "bar_style": "success",
            "description": "",
            "description_tooltip": null,
            "layout": "IPY_MODEL_9ea02d1479034d71aeaeacf80ec3836d",
            "max": 108473,
            "min": 0,
            "orientation": "horizontal",
            "style": "IPY_MODEL_cab18837c3274485a8bb4e142f1a9bfb",
            "value": 108473
          }
        },
        "8f659a7165c04e89bc9a67ecdb1554ff": {
          "model_module": "@jupyter-widgets/controls",
          "model_module_version": "1.5.0",
          "model_name": "ProgressStyleModel",
          "state": {
            "_model_module": "@jupyter-widgets/controls",
            "_model_module_version": "1.5.0",
            "_model_name": "ProgressStyleModel",
            "_view_count": null,
            "_view_module": "@jupyter-widgets/base",
            "_view_module_version": "1.2.0",
            "_view_name": "StyleView",
            "bar_color": null,
            "description_width": ""
          }
        },
        "9292117b3bab49f1ac3e642562000a3b": {
          "model_module": "@jupyter-widgets/controls",
          "model_module_version": "1.5.0",
          "model_name": "DescriptionStyleModel",
          "state": {
            "_model_module": "@jupyter-widgets/controls",
            "_model_module_version": "1.5.0",
            "_model_name": "DescriptionStyleModel",
            "_view_count": null,
            "_view_module": "@jupyter-widgets/base",
            "_view_module_version": "1.2.0",
            "_view_name": "StyleView",
            "description_width": ""
          }
        },
        "948638316a2b44f7a101823a6364a2bf": {
          "model_module": "@jupyter-widgets/base",
          "model_module_version": "1.2.0",
          "model_name": "LayoutModel",
          "state": {
            "_model_module": "@jupyter-widgets/base",
            "_model_module_version": "1.2.0",
            "_model_name": "LayoutModel",
            "_view_count": null,
            "_view_module": "@jupyter-widgets/base",
            "_view_module_version": "1.2.0",
            "_view_name": "LayoutView",
            "align_content": null,
            "align_items": null,
            "align_self": null,
            "border": null,
            "bottom": null,
            "display": null,
            "flex": null,
            "flex_flow": null,
            "grid_area": null,
            "grid_auto_columns": null,
            "grid_auto_flow": null,
            "grid_auto_rows": null,
            "grid_column": null,
            "grid_gap": null,
            "grid_row": null,
            "grid_template_areas": null,
            "grid_template_columns": null,
            "grid_template_rows": null,
            "height": null,
            "justify_content": null,
            "justify_items": null,
            "left": null,
            "margin": null,
            "max_height": null,
            "max_width": null,
            "min_height": null,
            "min_width": null,
            "object_fit": null,
            "object_position": null,
            "order": null,
            "overflow": null,
            "overflow_x": null,
            "overflow_y": null,
            "padding": null,
            "right": null,
            "top": null,
            "visibility": null,
            "width": null
          }
        },
        "9c5faa3c9d04411d984c49483b90ed93": {
          "model_module": "@jupyter-widgets/base",
          "model_module_version": "1.2.0",
          "model_name": "LayoutModel",
          "state": {
            "_model_module": "@jupyter-widgets/base",
            "_model_module_version": "1.2.0",
            "_model_name": "LayoutModel",
            "_view_count": null,
            "_view_module": "@jupyter-widgets/base",
            "_view_module_version": "1.2.0",
            "_view_name": "LayoutView",
            "align_content": null,
            "align_items": null,
            "align_self": null,
            "border": null,
            "bottom": null,
            "display": null,
            "flex": null,
            "flex_flow": null,
            "grid_area": null,
            "grid_auto_columns": null,
            "grid_auto_flow": null,
            "grid_auto_rows": null,
            "grid_column": null,
            "grid_gap": null,
            "grid_row": null,
            "grid_template_areas": null,
            "grid_template_columns": null,
            "grid_template_rows": null,
            "height": null,
            "justify_content": null,
            "justify_items": null,
            "left": null,
            "margin": null,
            "max_height": null,
            "max_width": null,
            "min_height": null,
            "min_width": null,
            "object_fit": null,
            "object_position": null,
            "order": null,
            "overflow": null,
            "overflow_x": null,
            "overflow_y": null,
            "padding": null,
            "right": null,
            "top": null,
            "visibility": null,
            "width": null
          }
        },
        "9d81b7c1ef9842d8aa617250b64aef1a": {
          "model_module": "@jupyter-widgets/base",
          "model_module_version": "1.2.0",
          "model_name": "LayoutModel",
          "state": {
            "_model_module": "@jupyter-widgets/base",
            "_model_module_version": "1.2.0",
            "_model_name": "LayoutModel",
            "_view_count": null,
            "_view_module": "@jupyter-widgets/base",
            "_view_module_version": "1.2.0",
            "_view_name": "LayoutView",
            "align_content": null,
            "align_items": null,
            "align_self": null,
            "border": null,
            "bottom": null,
            "display": null,
            "flex": null,
            "flex_flow": null,
            "grid_area": null,
            "grid_auto_columns": null,
            "grid_auto_flow": null,
            "grid_auto_rows": null,
            "grid_column": null,
            "grid_gap": null,
            "grid_row": null,
            "grid_template_areas": null,
            "grid_template_columns": null,
            "grid_template_rows": null,
            "height": null,
            "justify_content": null,
            "justify_items": null,
            "left": null,
            "margin": null,
            "max_height": null,
            "max_width": null,
            "min_height": null,
            "min_width": null,
            "object_fit": null,
            "object_position": null,
            "order": null,
            "overflow": null,
            "overflow_x": null,
            "overflow_y": null,
            "padding": null,
            "right": null,
            "top": null,
            "visibility": null,
            "width": null
          }
        },
        "9ea02d1479034d71aeaeacf80ec3836d": {
          "model_module": "@jupyter-widgets/base",
          "model_module_version": "1.2.0",
          "model_name": "LayoutModel",
          "state": {
            "_model_module": "@jupyter-widgets/base",
            "_model_module_version": "1.2.0",
            "_model_name": "LayoutModel",
            "_view_count": null,
            "_view_module": "@jupyter-widgets/base",
            "_view_module_version": "1.2.0",
            "_view_name": "LayoutView",
            "align_content": null,
            "align_items": null,
            "align_self": null,
            "border": null,
            "bottom": null,
            "display": null,
            "flex": null,
            "flex_flow": null,
            "grid_area": null,
            "grid_auto_columns": null,
            "grid_auto_flow": null,
            "grid_auto_rows": null,
            "grid_column": null,
            "grid_gap": null,
            "grid_row": null,
            "grid_template_areas": null,
            "grid_template_columns": null,
            "grid_template_rows": null,
            "height": null,
            "justify_content": null,
            "justify_items": null,
            "left": null,
            "margin": null,
            "max_height": null,
            "max_width": null,
            "min_height": null,
            "min_width": null,
            "object_fit": null,
            "object_position": null,
            "order": null,
            "overflow": null,
            "overflow_x": null,
            "overflow_y": null,
            "padding": null,
            "right": null,
            "top": null,
            "visibility": null,
            "width": null
          }
        },
        "a056e86944654c0b85a3e94f435c6b2b": {
          "model_module": "@jupyter-widgets/controls",
          "model_module_version": "1.5.0",
          "model_name": "DescriptionStyleModel",
          "state": {
            "_model_module": "@jupyter-widgets/controls",
            "_model_module_version": "1.5.0",
            "_model_name": "DescriptionStyleModel",
            "_view_count": null,
            "_view_module": "@jupyter-widgets/base",
            "_view_module_version": "1.2.0",
            "_view_name": "StyleView",
            "description_width": ""
          }
        },
        "a0ed6ee8c8224a54b1b4876432343e47": {
          "model_module": "@jupyter-widgets/base",
          "model_module_version": "1.2.0",
          "model_name": "LayoutModel",
          "state": {
            "_model_module": "@jupyter-widgets/base",
            "_model_module_version": "1.2.0",
            "_model_name": "LayoutModel",
            "_view_count": null,
            "_view_module": "@jupyter-widgets/base",
            "_view_module_version": "1.2.0",
            "_view_name": "LayoutView",
            "align_content": null,
            "align_items": null,
            "align_self": null,
            "border": null,
            "bottom": null,
            "display": null,
            "flex": null,
            "flex_flow": null,
            "grid_area": null,
            "grid_auto_columns": null,
            "grid_auto_flow": null,
            "grid_auto_rows": null,
            "grid_column": null,
            "grid_gap": null,
            "grid_row": null,
            "grid_template_areas": null,
            "grid_template_columns": null,
            "grid_template_rows": null,
            "height": null,
            "justify_content": null,
            "justify_items": null,
            "left": null,
            "margin": null,
            "max_height": null,
            "max_width": null,
            "min_height": null,
            "min_width": null,
            "object_fit": null,
            "object_position": null,
            "order": null,
            "overflow": null,
            "overflow_x": null,
            "overflow_y": null,
            "padding": null,
            "right": null,
            "top": null,
            "visibility": null,
            "width": null
          }
        },
        "a3d3c190bf514adb946262855900fddf": {
          "model_module": "@jupyter-widgets/controls",
          "model_module_version": "1.5.0",
          "model_name": "DescriptionStyleModel",
          "state": {
            "_model_module": "@jupyter-widgets/controls",
            "_model_module_version": "1.5.0",
            "_model_name": "DescriptionStyleModel",
            "_view_count": null,
            "_view_module": "@jupyter-widgets/base",
            "_view_module_version": "1.2.0",
            "_view_name": "StyleView",
            "description_width": ""
          }
        },
        "a49d220eaddd46728d79903b0300aedc": {
          "model_module": "@jupyter-widgets/controls",
          "model_module_version": "1.5.0",
          "model_name": "HTMLModel",
          "state": {
            "_dom_classes": [],
            "_model_module": "@jupyter-widgets/controls",
            "_model_module_version": "1.5.0",
            "_model_name": "HTMLModel",
            "_view_count": null,
            "_view_module": "@jupyter-widgets/controls",
            "_view_module_version": "1.5.0",
            "_view_name": "HTMLView",
            "description": "",
            "description_tooltip": null,
            "layout": "IPY_MODEL_bf9b26a16ef14919be90f5d28563a308",
            "placeholder": "​",
            "style": "IPY_MODEL_9292117b3bab49f1ac3e642562000a3b",
            "value": " 20081/20081 [00:01&lt;00:00, 15900.26 examples/s]"
          }
        },
        "ac874f1b226a4984922ca14ed31b79cb": {
          "model_module": "@jupyter-widgets/controls",
          "model_module_version": "1.5.0",
          "model_name": "FloatProgressModel",
          "state": {
            "_dom_classes": [],
            "_model_module": "@jupyter-widgets/controls",
            "_model_module_version": "1.5.0",
            "_model_name": "FloatProgressModel",
            "_view_count": null,
            "_view_module": "@jupyter-widgets/controls",
            "_view_module_version": "1.5.0",
            "_view_name": "ProgressView",
            "bar_style": "success",
            "description": "",
            "description_tooltip": null,
            "layout": "IPY_MODEL_9d81b7c1ef9842d8aa617250b64aef1a",
            "max": 108473,
            "min": 0,
            "orientation": "horizontal",
            "style": "IPY_MODEL_2aa922616bdf4bbfb4be743737c64e19",
            "value": 108473
          }
        },
        "ac96eda8ed7b453499aa8ebdcb8a38fb": {
          "model_module": "@jupyter-widgets/controls",
          "model_module_version": "1.5.0",
          "model_name": "HTMLModel",
          "state": {
            "_dom_classes": [],
            "_model_module": "@jupyter-widgets/controls",
            "_model_module_version": "1.5.0",
            "_model_name": "HTMLModel",
            "_view_count": null,
            "_view_module": "@jupyter-widgets/controls",
            "_view_module_version": "1.5.0",
            "_view_name": "HTMLView",
            "description": "",
            "description_tooltip": null,
            "layout": "IPY_MODEL_948638316a2b44f7a101823a6364a2bf",
            "placeholder": "​",
            "style": "IPY_MODEL_47bea32325e34fefb4245ea52575c6cf",
            "value": " 108473/108473 [00:00&lt;00:00, 512862.36 examples/s]"
          }
        },
        "b07d4eadaf6d4cd090f9f3c1f9fee972": {
          "model_module": "@jupyter-widgets/base",
          "model_module_version": "1.2.0",
          "model_name": "LayoutModel",
          "state": {
            "_model_module": "@jupyter-widgets/base",
            "_model_module_version": "1.2.0",
            "_model_name": "LayoutModel",
            "_view_count": null,
            "_view_module": "@jupyter-widgets/base",
            "_view_module_version": "1.2.0",
            "_view_name": "LayoutView",
            "align_content": null,
            "align_items": null,
            "align_self": null,
            "border": null,
            "bottom": null,
            "display": null,
            "flex": null,
            "flex_flow": null,
            "grid_area": null,
            "grid_auto_columns": null,
            "grid_auto_flow": null,
            "grid_auto_rows": null,
            "grid_column": null,
            "grid_gap": null,
            "grid_row": null,
            "grid_template_areas": null,
            "grid_template_columns": null,
            "grid_template_rows": null,
            "height": null,
            "justify_content": null,
            "justify_items": null,
            "left": null,
            "margin": null,
            "max_height": null,
            "max_width": null,
            "min_height": null,
            "min_width": null,
            "object_fit": null,
            "object_position": null,
            "order": null,
            "overflow": null,
            "overflow_x": null,
            "overflow_y": null,
            "padding": null,
            "right": null,
            "top": null,
            "visibility": null,
            "width": null
          }
        },
        "b287e47ba1ac45818c001d1ccfc2e816": {
          "model_module": "@jupyter-widgets/controls",
          "model_module_version": "1.5.0",
          "model_name": "FloatProgressModel",
          "state": {
            "_dom_classes": [],
            "_model_module": "@jupyter-widgets/controls",
            "_model_module_version": "1.5.0",
            "_model_name": "FloatProgressModel",
            "_view_count": null,
            "_view_module": "@jupyter-widgets/controls",
            "_view_module_version": "1.5.0",
            "_view_name": "ProgressView",
            "bar_style": "success",
            "description": "",
            "description_tooltip": null,
            "layout": "IPY_MODEL_480e22348a24409faabce09f4e1937d2",
            "max": 20081,
            "min": 0,
            "orientation": "horizontal",
            "style": "IPY_MODEL_5b9a78e2c8d2465cbd29e6e08edf1b2b",
            "value": 20081
          }
        },
        "b5653a79d9d44f608c8fb10328e56814": {
          "model_module": "@jupyter-widgets/base",
          "model_module_version": "1.2.0",
          "model_name": "LayoutModel",
          "state": {
            "_model_module": "@jupyter-widgets/base",
            "_model_module_version": "1.2.0",
            "_model_name": "LayoutModel",
            "_view_count": null,
            "_view_module": "@jupyter-widgets/base",
            "_view_module_version": "1.2.0",
            "_view_name": "LayoutView",
            "align_content": null,
            "align_items": null,
            "align_self": null,
            "border": null,
            "bottom": null,
            "display": null,
            "flex": null,
            "flex_flow": null,
            "grid_area": null,
            "grid_auto_columns": null,
            "grid_auto_flow": null,
            "grid_auto_rows": null,
            "grid_column": null,
            "grid_gap": null,
            "grid_row": null,
            "grid_template_areas": null,
            "grid_template_columns": null,
            "grid_template_rows": null,
            "height": null,
            "justify_content": null,
            "justify_items": null,
            "left": null,
            "margin": null,
            "max_height": null,
            "max_width": null,
            "min_height": null,
            "min_width": null,
            "object_fit": null,
            "object_position": null,
            "order": null,
            "overflow": null,
            "overflow_x": null,
            "overflow_y": null,
            "padding": null,
            "right": null,
            "top": null,
            "visibility": null,
            "width": null
          }
        },
        "be216765f60c41db870a586d07fa5216": {
          "model_module": "@jupyter-widgets/base",
          "model_module_version": "1.2.0",
          "model_name": "LayoutModel",
          "state": {
            "_model_module": "@jupyter-widgets/base",
            "_model_module_version": "1.2.0",
            "_model_name": "LayoutModel",
            "_view_count": null,
            "_view_module": "@jupyter-widgets/base",
            "_view_module_version": "1.2.0",
            "_view_name": "LayoutView",
            "align_content": null,
            "align_items": null,
            "align_self": null,
            "border": null,
            "bottom": null,
            "display": null,
            "flex": null,
            "flex_flow": null,
            "grid_area": null,
            "grid_auto_columns": null,
            "grid_auto_flow": null,
            "grid_auto_rows": null,
            "grid_column": null,
            "grid_gap": null,
            "grid_row": null,
            "grid_template_areas": null,
            "grid_template_columns": null,
            "grid_template_rows": null,
            "height": null,
            "justify_content": null,
            "justify_items": null,
            "left": null,
            "margin": null,
            "max_height": null,
            "max_width": null,
            "min_height": null,
            "min_width": null,
            "object_fit": null,
            "object_position": null,
            "order": null,
            "overflow": null,
            "overflow_x": null,
            "overflow_y": null,
            "padding": null,
            "right": null,
            "top": null,
            "visibility": null,
            "width": null
          }
        },
        "bf7c7a6ca6794e8797a8f9240e6cb3e6": {
          "model_module": "@jupyter-widgets/controls",
          "model_module_version": "1.5.0",
          "model_name": "FloatProgressModel",
          "state": {
            "_dom_classes": [],
            "_model_module": "@jupyter-widgets/controls",
            "_model_module_version": "1.5.0",
            "_model_name": "FloatProgressModel",
            "_view_count": null,
            "_view_module": "@jupyter-widgets/controls",
            "_view_module_version": "1.5.0",
            "_view_name": "ProgressView",
            "bar_style": "success",
            "description": "",
            "description_tooltip": null,
            "layout": "IPY_MODEL_df8b07cf84744f6396a18049432b33e0",
            "max": 108473,
            "min": 0,
            "orientation": "horizontal",
            "style": "IPY_MODEL_8f659a7165c04e89bc9a67ecdb1554ff",
            "value": 108473
          }
        },
        "bf9b26a16ef14919be90f5d28563a308": {
          "model_module": "@jupyter-widgets/base",
          "model_module_version": "1.2.0",
          "model_name": "LayoutModel",
          "state": {
            "_model_module": "@jupyter-widgets/base",
            "_model_module_version": "1.2.0",
            "_model_name": "LayoutModel",
            "_view_count": null,
            "_view_module": "@jupyter-widgets/base",
            "_view_module_version": "1.2.0",
            "_view_name": "LayoutView",
            "align_content": null,
            "align_items": null,
            "align_self": null,
            "border": null,
            "bottom": null,
            "display": null,
            "flex": null,
            "flex_flow": null,
            "grid_area": null,
            "grid_auto_columns": null,
            "grid_auto_flow": null,
            "grid_auto_rows": null,
            "grid_column": null,
            "grid_gap": null,
            "grid_row": null,
            "grid_template_areas": null,
            "grid_template_columns": null,
            "grid_template_rows": null,
            "height": null,
            "justify_content": null,
            "justify_items": null,
            "left": null,
            "margin": null,
            "max_height": null,
            "max_width": null,
            "min_height": null,
            "min_width": null,
            "object_fit": null,
            "object_position": null,
            "order": null,
            "overflow": null,
            "overflow_x": null,
            "overflow_y": null,
            "padding": null,
            "right": null,
            "top": null,
            "visibility": null,
            "width": null
          }
        },
        "c92c0083ebdc4a2da5758420f0a06725": {
          "model_module": "@jupyter-widgets/controls",
          "model_module_version": "1.5.0",
          "model_name": "HTMLModel",
          "state": {
            "_dom_classes": [],
            "_model_module": "@jupyter-widgets/controls",
            "_model_module_version": "1.5.0",
            "_model_name": "HTMLModel",
            "_view_count": null,
            "_view_module": "@jupyter-widgets/controls",
            "_view_module_version": "1.5.0",
            "_view_name": "HTMLView",
            "description": "",
            "description_tooltip": null,
            "layout": "IPY_MODEL_37645572314f43de966287126b8b367f",
            "placeholder": "​",
            "style": "IPY_MODEL_44568969497c466aba5a510c0178514e",
            "value": "Filter: 100%"
          }
        },
        "cab18837c3274485a8bb4e142f1a9bfb": {
          "model_module": "@jupyter-widgets/controls",
          "model_module_version": "1.5.0",
          "model_name": "ProgressStyleModel",
          "state": {
            "_model_module": "@jupyter-widgets/controls",
            "_model_module_version": "1.5.0",
            "_model_name": "ProgressStyleModel",
            "_view_count": null,
            "_view_module": "@jupyter-widgets/base",
            "_view_module_version": "1.2.0",
            "_view_name": "StyleView",
            "bar_color": null,
            "description_width": ""
          }
        },
        "d05dbb914e6546f3b535edfd15961d9d": {
          "model_module": "@jupyter-widgets/base",
          "model_module_version": "1.2.0",
          "model_name": "LayoutModel",
          "state": {
            "_model_module": "@jupyter-widgets/base",
            "_model_module_version": "1.2.0",
            "_model_name": "LayoutModel",
            "_view_count": null,
            "_view_module": "@jupyter-widgets/base",
            "_view_module_version": "1.2.0",
            "_view_name": "LayoutView",
            "align_content": null,
            "align_items": null,
            "align_self": null,
            "border": null,
            "bottom": null,
            "display": null,
            "flex": null,
            "flex_flow": null,
            "grid_area": null,
            "grid_auto_columns": null,
            "grid_auto_flow": null,
            "grid_auto_rows": null,
            "grid_column": null,
            "grid_gap": null,
            "grid_row": null,
            "grid_template_areas": null,
            "grid_template_columns": null,
            "grid_template_rows": null,
            "height": null,
            "justify_content": null,
            "justify_items": null,
            "left": null,
            "margin": null,
            "max_height": null,
            "max_width": null,
            "min_height": null,
            "min_width": null,
            "object_fit": null,
            "object_position": null,
            "order": null,
            "overflow": null,
            "overflow_x": null,
            "overflow_y": null,
            "padding": null,
            "right": null,
            "top": null,
            "visibility": null,
            "width": null
          }
        },
        "d0d29004a28046f088a8c08029a8b520": {
          "model_module": "@jupyter-widgets/controls",
          "model_module_version": "1.5.0",
          "model_name": "HBoxModel",
          "state": {
            "_dom_classes": [],
            "_model_module": "@jupyter-widgets/controls",
            "_model_module_version": "1.5.0",
            "_model_name": "HBoxModel",
            "_view_count": null,
            "_view_module": "@jupyter-widgets/controls",
            "_view_module_version": "1.5.0",
            "_view_name": "HBoxView",
            "box_style": "",
            "children": [
              "IPY_MODEL_d345e0dcca494be19e85059320c24f4b",
              "IPY_MODEL_533b63d7fd324d71b1242f78a0f191a8",
              "IPY_MODEL_a49d220eaddd46728d79903b0300aedc"
            ],
            "layout": "IPY_MODEL_775b213275b3416f8f6c1e8c8617fd7b"
          }
        },
        "d345e0dcca494be19e85059320c24f4b": {
          "model_module": "@jupyter-widgets/controls",
          "model_module_version": "1.5.0",
          "model_name": "HTMLModel",
          "state": {
            "_dom_classes": [],
            "_model_module": "@jupyter-widgets/controls",
            "_model_module_version": "1.5.0",
            "_model_name": "HTMLModel",
            "_view_count": null,
            "_view_module": "@jupyter-widgets/controls",
            "_view_module_version": "1.5.0",
            "_view_name": "HTMLView",
            "description": "",
            "description_tooltip": null,
            "layout": "IPY_MODEL_9c5faa3c9d04411d984c49483b90ed93",
            "placeholder": "​",
            "style": "IPY_MODEL_637fcc19ec5d461c9c168552d7a0112c",
            "value": "Filter: 100%"
          }
        },
        "d5339919e6934187964d056e279f4ae0": {
          "model_module": "@jupyter-widgets/controls",
          "model_module_version": "1.5.0",
          "model_name": "HBoxModel",
          "state": {
            "_dom_classes": [],
            "_model_module": "@jupyter-widgets/controls",
            "_model_module_version": "1.5.0",
            "_model_name": "HBoxModel",
            "_view_count": null,
            "_view_module": "@jupyter-widgets/controls",
            "_view_module_version": "1.5.0",
            "_view_name": "HBoxView",
            "box_style": "",
            "children": [
              "IPY_MODEL_c92c0083ebdc4a2da5758420f0a06725",
              "IPY_MODEL_ac874f1b226a4984922ca14ed31b79cb",
              "IPY_MODEL_ac96eda8ed7b453499aa8ebdcb8a38fb"
            ],
            "layout": "IPY_MODEL_eb74c90dce834b6ab6a55a51ea820efe"
          }
        },
        "df8b07cf84744f6396a18049432b33e0": {
          "model_module": "@jupyter-widgets/base",
          "model_module_version": "1.2.0",
          "model_name": "LayoutModel",
          "state": {
            "_model_module": "@jupyter-widgets/base",
            "_model_module_version": "1.2.0",
            "_model_name": "LayoutModel",
            "_view_count": null,
            "_view_module": "@jupyter-widgets/base",
            "_view_module_version": "1.2.0",
            "_view_name": "LayoutView",
            "align_content": null,
            "align_items": null,
            "align_self": null,
            "border": null,
            "bottom": null,
            "display": null,
            "flex": null,
            "flex_flow": null,
            "grid_area": null,
            "grid_auto_columns": null,
            "grid_auto_flow": null,
            "grid_auto_rows": null,
            "grid_column": null,
            "grid_gap": null,
            "grid_row": null,
            "grid_template_areas": null,
            "grid_template_columns": null,
            "grid_template_rows": null,
            "height": null,
            "justify_content": null,
            "justify_items": null,
            "left": null,
            "margin": null,
            "max_height": null,
            "max_width": null,
            "min_height": null,
            "min_width": null,
            "object_fit": null,
            "object_position": null,
            "order": null,
            "overflow": null,
            "overflow_x": null,
            "overflow_y": null,
            "padding": null,
            "right": null,
            "top": null,
            "visibility": null,
            "width": null
          }
        },
        "e0f33a4422eb4a6e8f88cdd3363fa2b4": {
          "model_module": "@jupyter-widgets/controls",
          "model_module_version": "1.5.0",
          "model_name": "HBoxModel",
          "state": {
            "_dom_classes": [],
            "_model_module": "@jupyter-widgets/controls",
            "_model_module_version": "1.5.0",
            "_model_name": "HBoxModel",
            "_view_count": null,
            "_view_module": "@jupyter-widgets/controls",
            "_view_module_version": "1.5.0",
            "_view_name": "HBoxView",
            "box_style": "",
            "children": [
              "IPY_MODEL_1fa1ad3d6cb24327b3d88810657fb185",
              "IPY_MODEL_bf7c7a6ca6794e8797a8f9240e6cb3e6",
              "IPY_MODEL_515af706ba5740588697d2939acac1c8"
            ],
            "layout": "IPY_MODEL_275ddc5585d146d999b20a87abe41c68"
          }
        },
        "e0f8feb8044a45b19ce69f4a34b144cb": {
          "model_module": "@jupyter-widgets/base",
          "model_module_version": "1.2.0",
          "model_name": "LayoutModel",
          "state": {
            "_model_module": "@jupyter-widgets/base",
            "_model_module_version": "1.2.0",
            "_model_name": "LayoutModel",
            "_view_count": null,
            "_view_module": "@jupyter-widgets/base",
            "_view_module_version": "1.2.0",
            "_view_name": "LayoutView",
            "align_content": null,
            "align_items": null,
            "align_self": null,
            "border": null,
            "bottom": null,
            "display": null,
            "flex": null,
            "flex_flow": null,
            "grid_area": null,
            "grid_auto_columns": null,
            "grid_auto_flow": null,
            "grid_auto_rows": null,
            "grid_column": null,
            "grid_gap": null,
            "grid_row": null,
            "grid_template_areas": null,
            "grid_template_columns": null,
            "grid_template_rows": null,
            "height": null,
            "justify_content": null,
            "justify_items": null,
            "left": null,
            "margin": null,
            "max_height": null,
            "max_width": null,
            "min_height": null,
            "min_width": null,
            "object_fit": null,
            "object_position": null,
            "order": null,
            "overflow": null,
            "overflow_x": null,
            "overflow_y": null,
            "padding": null,
            "right": null,
            "top": null,
            "visibility": null,
            "width": null
          }
        },
        "e4b197543c604f56884fb695945785cb": {
          "model_module": "@jupyter-widgets/base",
          "model_module_version": "1.2.0",
          "model_name": "LayoutModel",
          "state": {
            "_model_module": "@jupyter-widgets/base",
            "_model_module_version": "1.2.0",
            "_model_name": "LayoutModel",
            "_view_count": null,
            "_view_module": "@jupyter-widgets/base",
            "_view_module_version": "1.2.0",
            "_view_name": "LayoutView",
            "align_content": null,
            "align_items": null,
            "align_self": null,
            "border": null,
            "bottom": null,
            "display": null,
            "flex": null,
            "flex_flow": null,
            "grid_area": null,
            "grid_auto_columns": null,
            "grid_auto_flow": null,
            "grid_auto_rows": null,
            "grid_column": null,
            "grid_gap": null,
            "grid_row": null,
            "grid_template_areas": null,
            "grid_template_columns": null,
            "grid_template_rows": null,
            "height": null,
            "justify_content": null,
            "justify_items": null,
            "left": null,
            "margin": null,
            "max_height": null,
            "max_width": null,
            "min_height": null,
            "min_width": null,
            "object_fit": null,
            "object_position": null,
            "order": null,
            "overflow": null,
            "overflow_x": null,
            "overflow_y": null,
            "padding": null,
            "right": null,
            "top": null,
            "visibility": null,
            "width": null
          }
        },
        "eb74c90dce834b6ab6a55a51ea820efe": {
          "model_module": "@jupyter-widgets/base",
          "model_module_version": "1.2.0",
          "model_name": "LayoutModel",
          "state": {
            "_model_module": "@jupyter-widgets/base",
            "_model_module_version": "1.2.0",
            "_model_name": "LayoutModel",
            "_view_count": null,
            "_view_module": "@jupyter-widgets/base",
            "_view_module_version": "1.2.0",
            "_view_name": "LayoutView",
            "align_content": null,
            "align_items": null,
            "align_self": null,
            "border": null,
            "bottom": null,
            "display": null,
            "flex": null,
            "flex_flow": null,
            "grid_area": null,
            "grid_auto_columns": null,
            "grid_auto_flow": null,
            "grid_auto_rows": null,
            "grid_column": null,
            "grid_gap": null,
            "grid_row": null,
            "grid_template_areas": null,
            "grid_template_columns": null,
            "grid_template_rows": null,
            "height": null,
            "justify_content": null,
            "justify_items": null,
            "left": null,
            "margin": null,
            "max_height": null,
            "max_width": null,
            "min_height": null,
            "min_width": null,
            "object_fit": null,
            "object_position": null,
            "order": null,
            "overflow": null,
            "overflow_x": null,
            "overflow_y": null,
            "padding": null,
            "right": null,
            "top": null,
            "visibility": null,
            "width": null
          }
        }
      }
    }
  },
  "nbformat": 4,
  "nbformat_minor": 0
}
